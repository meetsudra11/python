{
 "cells": [
  {
   "cell_type": "markdown",
   "metadata": {},
   "source": [
    "# IF-ELSE AND NESTED IF-ELSE \n",
    "\n",
    "If else occurs when branching occurs in the code "
   ]
  },
  {
   "cell_type": "code",
   "execution_count": 12,
   "metadata": {},
   "outputs": [
    {
     "name": "stdout",
     "output_type": "stream",
     "text": [
      "Credentials did'nt match\n"
     ]
    }
   ],
   "source": [
    "email = 'meetsudra03@gmail.com'\n",
    "password = '134'\n",
    "\n",
    "# if condition:\n",
    "#     code\n",
    "# else:\n",
    "#     code\n",
    "\n",
    "if email == 'meetsudra03@gmail.com' and password == '1234':\n",
    "    print('welcome to python language')\n",
    "else:\n",
    "    print('Credentials did\\'nt match')\n"
   ]
  },
  {
   "cell_type": "code",
   "execution_count": null,
   "metadata": {},
   "outputs": [],
   "source": [
    "if email == 'meetsudra03@gmail.com' and password == '1234':\n",
    "    print('welcome to python language')\n",
    "elif email == 'meetsudra03@gmail.com' and password != '1234':\n",
    "    print('Enter correct credentials!')\n",
    "    password = input('Enter your password')\n",
    "    if email == 'meetsudra03@gmail.com' and password == '1234':\n",
    "        print('welcome to python language')\n",
    "    else:\n",
    "        print('Beta tu pogo dekh')\n",
    "else:\n",
    "    print('Credentials did\\'nt match')"
   ]
  },
  {
   "cell_type": "code",
   "execution_count": 16,
   "metadata": {},
   "outputs": [
    {
     "name": "stdout",
     "output_type": "stream",
     "text": [
      "b is the smallest amoung all\n"
     ]
    }
   ],
   "source": [
    "# find the min of 3 given numbers\n",
    "\n",
    "a,b,c = 55,45,53\n",
    "\n",
    "if a<b and a<c:\n",
    "    print(\"a is the smallest amoung all\")\n",
    "elif b<c: # a is bigger then b ofc it wont be smaller then b.\n",
    "    print(\"b is the smallest amoung all\")\n",
    "else:\n",
    "    print(\"c is the smallest amoung all \")"
   ]
  },
  {
   "cell_type": "code",
   "execution_count": null,
   "metadata": {},
   "outputs": [],
   "source": [
    "# Menu driven program\n",
    "\n",
    "# Build a calculator which does not have a GUI , works as if you are on a customer helpline call and the program on that call is asking for numbers 1 2 3 . . for different concerns\n",
    "\n",
    "# Calc will ask enter the numbers \n",
    "fnum = int(input('Enter the 1st number'))\n",
    "operation = input('Enter the operation ')\n",
    "snum = int(input('ENter the 2nd number'))\n",
    "\n",
    "if operation == '+':\n",
    "    print(fnum+snum)\n",
    "elif operation == '-':\n",
    "    print(fnum-snum)\n",
    "elif operation == '/':\n",
    "    print(fnum/snum)\n",
    "else:\n",
    "    print(fnum*snum)"
   ]
  },
  {
   "cell_type": "markdown",
   "metadata": {},
   "source": [
    "# LOOPS"
   ]
  },
  {
   "cell_type": "code",
   "execution_count": 3,
   "metadata": {},
   "outputs": [
    {
     "name": "stdout",
     "output_type": "stream",
     "text": [
      "5\n",
      "10\n",
      "15\n",
      "20\n",
      "25\n",
      "30\n",
      "35\n",
      "40\n",
      "45\n",
      "50\n"
     ]
    }
   ],
   "source": [
    "# print a table of given number\n",
    "a = 5\n",
    "i = 1\n",
    "while i < 11:\n",
    "    print(a * i)\n",
    "    i += 1\n",
    "    "
   ]
  },
  {
   "cell_type": "code",
   "execution_count": 6,
   "metadata": {},
   "outputs": [
    {
     "name": "stdout",
     "output_type": "stream",
     "text": [
      "1\n",
      "2\n",
      "that's all\n"
     ]
    }
   ],
   "source": [
    "x = 1\n",
    "while x<3:\n",
    "    print(x)\n",
    "    x+=1\n",
    "else:\n",
    "    print('that\\'s all')"
   ]
  },
  {
   "cell_type": "code",
   "execution_count": null,
   "metadata": {},
   "outputs": [],
   "source": [
    "#guessing game \n",
    "\n",
    "import random\n",
    "num = random.randint(1,100)\n",
    "usernum = int(input())\n",
    "i = 1\n",
    "while i<10:\n",
    "    if usernum == num:\n",
    "        print('Congratulations you won!')\n",
    "        break\n",
    "    elif usernum < num :\n",
    "        print('Your guess was too low, guess any higher number')\n",
    "        usernum = int(input())\n",
    "    else :\n",
    "        print('Your guess was too high guess any lower number')\n",
    "        usernum = int(input())\n",
    "\n",
    "    i += 1\n",
    "else :\n",
    "    print('Better luck next time')\n",
    "        "
   ]
  },
  {
   "cell_type": "code",
   "execution_count": 8,
   "metadata": {},
   "outputs": [
    {
     "name": "stdout",
     "output_type": "stream",
     "text": [
      "1\n",
      "2\n",
      "3\n",
      "4\n",
      "5\n",
      "6\n",
      "7\n",
      "8\n",
      "9\n",
      "10\n"
     ]
    }
   ],
   "source": [
    "for i in range(1,11):\n",
    "    print(i)"
   ]
  },
  {
   "cell_type": "code",
   "execution_count": 9,
   "metadata": {},
   "outputs": [
    {
     "name": "stdout",
     "output_type": "stream",
     "text": [
      "1\n",
      "3\n",
      "5\n",
      "7\n",
      "9\n",
      "11\n",
      "13\n",
      "15\n",
      "17\n",
      "19\n"
     ]
    }
   ],
   "source": [
    "for i in range(1,20,2): #step size\n",
    "    print(i)"
   ]
  },
  {
   "cell_type": "code",
   "execution_count": 10,
   "metadata": {},
   "outputs": [
    {
     "name": "stdout",
     "output_type": "stream",
     "text": [
      "10\n",
      "9\n",
      "8\n",
      "7\n",
      "6\n",
      "5\n",
      "4\n",
      "3\n",
      "2\n",
      "1\n"
     ]
    }
   ],
   "source": [
    "for i in range(10,0,-1):\n",
    "    print(i)"
   ]
  },
  {
   "cell_type": "code",
   "execution_count": 23,
   "metadata": {},
   "outputs": [
    {
     "name": "stdout",
     "output_type": "stream",
     "text": [
      "10 10000\n",
      "9 9000.0\n",
      "8 8100.0\n",
      "7 7290.0\n",
      "6 6561.0\n",
      "5 5904.9\n",
      "4 5314.41\n",
      "3 4782.969\n",
      "2 4304.6721\n",
      "1 3874.20489\n"
     ]
    }
   ],
   "source": [
    "# The current Population of a town is 10000. The population of the town is increasing at the rate of 10% per year. You have to write a program to find out the population at the end of each of the last 10 years.\n",
    "\n",
    "\n",
    "pop = 10000\n",
    "\n",
    "for i in range(10,0,-1):\n",
    "    print(i,pop)\n",
    "    pop = pop - 10/100*pop"
   ]
  },
  {
   "cell_type": "markdown",
   "metadata": {},
   "source": []
  }
 ],
 "metadata": {
  "kernelspec": {
   "display_name": "Python 3",
   "language": "python",
   "name": "python3"
  },
  "language_info": {
   "codemirror_mode": {
    "name": "ipython",
    "version": 3
   },
   "file_extension": ".py",
   "mimetype": "text/x-python",
   "name": "python",
   "nbconvert_exporter": "python",
   "pygments_lexer": "ipython3",
   "version": "3.12.3"
  }
 },
 "nbformat": 4,
 "nbformat_minor": 2
}
