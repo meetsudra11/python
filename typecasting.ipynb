{
 "cells": [
  {
   "cell_type": "code",
   "execution_count": 2,
   "metadata": {},
   "outputs": [],
   "source": [
    "# Dynamic softwares are the softwares which asks for the inputs and works accordingly for example, mostly application are dynamic youtube is the example.  \n",
    "\n",
    "# those softwares where u only see and infer something from its working is called static software for example, clock"
   ]
  },
  {
   "cell_type": "code",
   "execution_count": null,
   "metadata": {},
   "outputs": [],
   "source": [
    "input(\"what is you name?\")"
   ]
  },
  {
   "cell_type": "markdown",
   "metadata": {},
   "source": [
    "# Conversion Type"
   ]
  },
  {
   "cell_type": "code",
   "execution_count": 4,
   "metadata": {},
   "outputs": [
    {
     "data": {
      "text/plain": [
       "12.9"
      ]
     },
     "execution_count": 4,
     "metadata": {},
     "output_type": "execute_result"
    }
   ],
   "source": [
    "4 + 8.9 # int + float How? python implicitly converts the datatype "
   ]
  },
  {
   "cell_type": "code",
   "execution_count": 5,
   "metadata": {},
   "outputs": [
    {
     "data": {
      "text/plain": [
       "(9+2j)"
      ]
     },
     "execution_count": 5,
     "metadata": {},
     "output_type": "execute_result"
    }
   ],
   "source": [
    "4 + 5+2j # int + complex"
   ]
  },
  {
   "cell_type": "code",
   "execution_count": null,
   "metadata": {},
   "outputs": [],
   "source": [
    "# remember all the user inputs are recieved in the string datatype\n",
    "age = int(input(\"What is your age?\")) # int is a function used explicitly  "
   ]
  },
  {
   "cell_type": "code",
   "execution_count": 9,
   "metadata": {},
   "outputs": [
    {
     "data": {
      "text/plain": [
       "34"
      ]
     },
     "execution_count": 9,
     "metadata": {},
     "output_type": "execute_result"
    }
   ],
   "source": [
    "int('34') # 34 is in string k"
   ]
  },
  {
   "cell_type": "code",
   "execution_count": 10,
   "metadata": {},
   "outputs": [
    {
     "data": {
      "text/plain": [
       "int"
      ]
     },
     "execution_count": 10,
     "metadata": {},
     "output_type": "execute_result"
    }
   ],
   "source": [
    "type(int('34'))"
   ]
  },
  {
   "cell_type": "code",
   "execution_count": 11,
   "metadata": {},
   "outputs": [
    {
     "data": {
      "text/plain": [
       "'3425'"
      ]
     },
     "execution_count": 11,
     "metadata": {},
     "output_type": "execute_result"
    }
   ],
   "source": [
    "str(3425) "
   ]
  },
  {
   "cell_type": "code",
   "execution_count": 12,
   "metadata": {},
   "outputs": [
    {
     "data": {
      "text/plain": [
       "str"
      ]
     },
     "execution_count": 12,
     "metadata": {},
     "output_type": "execute_result"
    }
   ],
   "source": [
    "type(str(3452))"
   ]
  },
  {
   "cell_type": "code",
   "execution_count": 13,
   "metadata": {},
   "outputs": [
    {
     "data": {
      "text/plain": [
       "True"
      ]
     },
     "execution_count": 13,
     "metadata": {},
     "output_type": "execute_result"
    }
   ],
   "source": [
    "bool(1)"
   ]
  },
  {
   "cell_type": "code",
   "execution_count": 14,
   "metadata": {},
   "outputs": [
    {
     "data": {
      "text/plain": [
       "False"
      ]
     },
     "execution_count": 14,
     "metadata": {},
     "output_type": "execute_result"
    }
   ],
   "source": [
    "bool(0)"
   ]
  },
  {
   "cell_type": "code",
   "execution_count": 15,
   "metadata": {},
   "outputs": [
    {
     "data": {
      "text/plain": [
       "['m', 'e', 'e', 't', 's', 'u', 'd', 'r', 'a']"
      ]
     },
     "execution_count": 15,
     "metadata": {},
     "output_type": "execute_result"
    }
   ],
   "source": [
    "list('meetsudra')"
   ]
  },
  {
   "cell_type": "code",
   "execution_count": 16,
   "metadata": {},
   "outputs": [
    {
     "data": {
      "text/plain": [
       "('m', 'e', 'e', 't', 's', 'u', 'd', 'r', 'a')"
      ]
     },
     "execution_count": 16,
     "metadata": {},
     "output_type": "execute_result"
    }
   ],
   "source": [
    "name = 'meetsudra'\n",
    "tuple(name)"
   ]
  },
  {
   "cell_type": "code",
   "execution_count": 17,
   "metadata": {},
   "outputs": [
    {
     "data": {
      "text/plain": [
       "(3+0j)"
      ]
     },
     "execution_count": 17,
     "metadata": {},
     "output_type": "execute_result"
    }
   ],
   "source": [
    "complex(3)"
   ]
  },
  {
   "cell_type": "code",
   "execution_count": 18,
   "metadata": {},
   "outputs": [
    {
     "data": {
      "text/plain": [
       "'meetsudra'"
      ]
     },
     "execution_count": 18,
     "metadata": {},
     "output_type": "execute_result"
    }
   ],
   "source": [
    "# Type conversion is not a permanent operation \n",
    "name # still a string !\n"
   ]
  },
  {
   "cell_type": "code",
   "execution_count": 19,
   "metadata": {},
   "outputs": [],
   "source": [
    "# you can use those type conversion but they are not dynamic "
   ]
  },
  {
   "cell_type": "markdown",
   "metadata": {},
   "source": [
    "# converting datatype of a variable "
   ]
  },
  {
   "cell_type": "code",
   "execution_count": 20,
   "metadata": {},
   "outputs": [
    {
     "name": "stdout",
     "output_type": "stream",
     "text": [
      "<class 'int'>\n",
      "10\n",
      "10.0\n",
      "(10+0j)\n",
      "True\n",
      "10\n"
     ]
    }
   ],
   "source": [
    "a =  10 \n",
    "print(type(a))\n",
    "print(int(a))\n",
    "print(float(a))\n",
    "print(complex(a))\n",
    "print(bool(a))\n",
    "print(str(a))\n",
    "# list(a)\n",
    "# tuple(a)\n",
    "# set(a)\n",
    "# dict(a)\n",
    "\n",
    "# (int) a single value datatype cant be converted into multivalue datatype except of string "
   ]
  },
  {
   "cell_type": "code",
   "execution_count": 21,
   "metadata": {},
   "outputs": [
    {
     "name": "stdout",
     "output_type": "stream",
     "text": [
      "<class 'float'>\n",
      "10\n",
      "10.5\n",
      "(10.5+0j)\n",
      "True\n",
      "<class 'str'>\n"
     ]
    }
   ],
   "source": [
    "b = 10.5\n",
    "print(type(b))\n",
    "\n",
    "print(int(b))\n",
    "print(float(b))\n",
    "print(complex(b))\n",
    "print(bool(b))\n",
    "print(type(str(b)))\n",
    "# list(b)\n",
    "# tuple(b)\n",
    "# set(b)\n",
    "# dict(b)"
   ]
  },
  {
   "cell_type": "code",
   "execution_count": 22,
   "metadata": {},
   "outputs": [
    {
     "name": "stdout",
     "output_type": "stream",
     "text": [
      "<class 'complex'>\n",
      "2.5j\n",
      "True\n",
      "2.5j\n"
     ]
    }
   ],
   "source": [
    "c = 2.5j # we can initialise any complex number using imaginary number \n",
    "print(type(c))\n",
    "\n",
    "# print(int(c))\n",
    "# print(float(c))\n",
    "print(complex(c))\n",
    "print(bool(c))\n",
    "print(str(c))\n",
    "# print(list(c))\n",
    "# print(tuple(c))\n",
    "# print(set(c))\n",
    "# print(dict(c))"
   ]
  },
  {
   "cell_type": "code",
   "execution_count": 23,
   "metadata": {},
   "outputs": [
    {
     "name": "stdout",
     "output_type": "stream",
     "text": [
      "<class 'bool'>\n",
      "0\n",
      "0.0\n",
      "0j\n",
      "False\n",
      "<class 'str'>\n"
     ]
    }
   ],
   "source": [
    "d = False \n",
    "print(type(d))\n",
    "\n",
    "print(int(d))\n",
    "print(float(d))\n",
    "print(complex(d))\n",
    "print(bool(d))\n",
    "print(type(str(d)))\n",
    "# list(d)\n",
    "# tuple(d)\n",
    "# set(d)\n",
    "# dict(d)\n"
   ]
  },
  {
   "cell_type": "code",
   "execution_count": 24,
   "metadata": {},
   "outputs": [
    {
     "name": "stdout",
     "output_type": "stream",
     "text": [
      "<class 'str'>\n",
      "['m', 'e', 'e', 't', 's', 'u', 'd', 'r', 'a']\n",
      "('m', 'e', 'e', 't', 's', 'u', 'd', 'r', 'a')\n",
      "{'s', 'm', 'u', 'e', 'd', 't', 'a', 'r'}\n"
     ]
    }
   ],
   "source": [
    "e = 'meetsudra'\n",
    "print(type(e))\n",
    "\n",
    "\n",
    "# print(int(e))\n",
    "# print(float(e))\n",
    "# print(complex(e))\n",
    "# print(bool(e))\n",
    "print(list(e))\n",
    "print(tuple(e))\n",
    "print(set(e))\n",
    "# print(dict(e))\n"
   ]
  },
  {
   "cell_type": "code",
   "execution_count": 25,
   "metadata": {},
   "outputs": [
    {
     "name": "stdout",
     "output_type": "stream",
     "text": [
      "<class 'str'>\n",
      "0.0\n",
      "0j\n",
      "True\n",
      "['0', '.', '0']\n",
      "('0', '.', '0')\n",
      "{'.', '0'}\n"
     ]
    }
   ],
   "source": [
    "f = '0.0' # string datatype of float value\n",
    "print(type(f))\n",
    "\n",
    "\n",
    "# print(int(f))\n",
    "print(float(f))\n",
    "print(complex(f))\n",
    "print(bool(f))\n",
    "print(list(f))\n",
    "print(tuple(f))\n",
    "print(set(f))\n",
    "# print(dict(f))\n"
   ]
  },
  {
   "cell_type": "code",
   "execution_count": 26,
   "metadata": {},
   "outputs": [
    {
     "name": "stdout",
     "output_type": "stream",
     "text": [
      "<class 'list'>\n",
      "[1, 2, 3, 4, 5]\n",
      "True\n",
      "(1, 2, 3, 4, 5)\n",
      "{1, 2, 3, 4, 5}\n"
     ]
    }
   ],
   "source": [
    "g = [1,2,3,4,5]\n",
    "print(type(g))\n",
    "\n",
    "# print(int(g))\n",
    "# print(float(g))\n",
    "print(str(g))\n",
    "# print(complex(g))\n",
    "print(bool(g))\n",
    "print(tuple(g))\n",
    "print(set(g))\n",
    "# print(dict(g))"
   ]
  },
  {
   "cell_type": "code",
   "execution_count": 27,
   "metadata": {},
   "outputs": [
    {
     "name": "stdout",
     "output_type": "stream",
     "text": [
      "<class 'tuple'>\n",
      "True\n",
      "<class 'str'>\n",
      "[1, 2, 3, 4, 5]\n",
      "{1, 2, 3, 4, 5}\n"
     ]
    }
   ],
   "source": [
    "h = (1,2,3,4,5)\n",
    "print(type(h))\n",
    "\n",
    "# print(int(g))\n",
    "# print(float(g))\n",
    "# print(complex(g))\n",
    "print(bool(h))\n",
    "print(type(str(h)))\n",
    "print(list(h))\n",
    "print(set(h))\n",
    "# print(dict(g))\n"
   ]
  },
  {
   "cell_type": "code",
   "execution_count": 28,
   "metadata": {},
   "outputs": [
    {
     "name": "stdout",
     "output_type": "stream",
     "text": [
      "<class 'set'>\n",
      "<class 'str'>\n",
      "True\n",
      "[1, 2, 3, 4, 5]\n",
      "(1, 2, 3, 4, 5)\n"
     ]
    }
   ],
   "source": [
    "i = {1,2,3,4,5}\n",
    "print(type(i))\n",
    "\n",
    "# print(int(i))\n",
    "# print(float(i))\n",
    "# print(complex(i))\n",
    "print(type(str(i)))\n",
    "print(bool(i))\n",
    "print(list(i))\n",
    "print(tuple(i))\n",
    "# print(dict(i))"
   ]
  },
  {
   "cell_type": "code",
   "execution_count": 29,
   "metadata": {},
   "outputs": [
    {
     "name": "stdout",
     "output_type": "stream",
     "text": [
      "<class 'dict'>\n",
      "{'Name': 'meet', 'age': 21}\n",
      "True\n",
      "['Name', 'age']\n",
      "('Name', 'age')\n"
     ]
    }
   ],
   "source": [
    "j = {\"Name\":\"meet\",\"age\":21}\n",
    "print(type(j))\n",
    "\n",
    "# print(int(j))\n",
    "# print(float(j))\n",
    "# print(complex(j))\n",
    "print(str(j))\n",
    "print(bool(j))\n",
    "print(list(j))\n",
    "print(tuple(j))\n",
    "# print(dict(i))\n"
   ]
  },
  {
   "cell_type": "code",
   "execution_count": null,
   "metadata": {},
   "outputs": [],
   "source": []
  }
 ],
 "metadata": {
  "kernelspec": {
   "display_name": "Python 3",
   "language": "python",
   "name": "python3"
  },
  "language_info": {
   "codemirror_mode": {
    "name": "ipython",
    "version": 3
   },
   "file_extension": ".py",
   "mimetype": "text/x-python",
   "name": "python",
   "nbconvert_exporter": "python",
   "pygments_lexer": "ipython3",
   "version": "3.12.3"
  }
 },
 "nbformat": 4,
 "nbformat_minor": 2
}
