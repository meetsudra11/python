{
 "cells": [
  {
   "cell_type": "code",
   "execution_count": 3,
   "metadata": {},
   "outputs": [
    {
     "name": "stdout",
     "output_type": "stream",
     "text": [
      "meet-sudra-maru-nam-che\n"
     ]
    }
   ],
   "source": [
    "# \"meet\" \"sudra\" \"maru\" \"nam\" \"che\"\n",
    "\n",
    "print(\"meet\",\"sudra\",\"maru\",\"nam\",\"che\",sep='-',end='\\n')"
   ]
  },
  {
   "cell_type": "code",
   "execution_count": 7,
   "metadata": {},
   "outputs": [
    {
     "name": "stdout",
     "output_type": "stream",
     "text": [
      "73.4 °F\n"
     ]
    }
   ],
   "source": [
    "# Write a program that will convert celsius value to fahrenheit.\n",
    "c = 23\n",
    "f = (9/5 * c)+32\n",
    "print(f,\"°F\")"
   ]
  },
  {
   "cell_type": "code",
   "execution_count": null,
   "metadata": {},
   "outputs": [],
   "source": [
    "# Take 2 numbers as input from the user. Write a program to swap the numbers without using any special python syntax.\n",
    "a = int(input())\n",
    "b = int(input())\n",
    "\n",
    "temp = a \n",
    "a = b \n",
    "print(a)\n",
    "b = temp \n",
    "print(b)"
   ]
  },
  {
   "cell_type": "code",
   "execution_count": null,
   "metadata": {},
   "outputs": [],
   "source": [
    "# Write a program to find the euclidean distance between two coordinates.Take both the coordinates from the user as input.\n",
    "import math\n",
    "x1, y1 = int(input()),int(input())\n",
    "x2, y2 = int(input()),int(input())\n",
    "\n",
    "ef = math.sqrt((y2-y1)**2+(x2-x1)**2)\n",
    "ef\n",
    "\n",
    "\n",
    "# distance formula is square root of sumation of (yi-xi) the whole raise to 2\n",
    "# ((b1-a1)**2 + (b2-a2)**2)**0.5   to the power 0.5 "
   ]
  },
  {
   "cell_type": "code",
   "execution_count": null,
   "metadata": {},
   "outputs": [],
   "source": [
    "# Write a program to find the simple interest when the value of principle,rate of interest and time period is provided by the user.\n",
    "\n",
    "principle = int(input)\n",
    "rate_int = float(input)\n",
    "time = int(input)\n",
    "\n",
    "simple_int = (principle * rate_int * time)/100\n",
    "simple_int "
   ]
  },
  {
   "cell_type": "code",
   "execution_count": null,
   "metadata": {},
   "outputs": [],
   "source": [
    "# Write a program that will tell the number of dogs and chicken are there when the user will provide the value of total heads and legs.\n",
    "\n",
    "total_legs = int(input())\n",
    "total_heads = int(input())\n",
    "\n",
    "# total_legs = 4dogs + 2cats\n",
    "# total_heads = dogs + cats\n",
    "\n",
    "dogs = (total_legs - 2*total_heads) / 2 \n",
    "cats = total_heads - dogs\n",
    "\n",
    "print(dogs,cats)\n",
    "\n",
    "# total_legs = 4dogs + 2(total_heads - dogs)\n",
    "# total_legs = 4dogs + 2total_heads - 2dogs\n",
    "# total_legs = 2dogs + 2total_heads\n",
    "# (total_legs - 2total_heads) / 2 = dogs"
   ]
  },
  {
   "cell_type": "code",
   "execution_count": 18,
   "metadata": {},
   "outputs": [
    {
     "data": {
      "text/plain": [
       "55"
      ]
     },
     "execution_count": 18,
     "metadata": {},
     "output_type": "execute_result"
    }
   ],
   "source": [
    "# Q7:- Write a program to find the sum of squares of first n natural numbers where n will be provided by the user.\n",
    "\n",
    "n = 5\n",
    "sum = n**2 + (n-1)**2 + (n-2)**2 + (n-3)**2 + (n-4)**2 \n",
    "\n",
    "'''n = int(input())\n",
    "sum = 0\n",
    "for i in range(1,n+1):\n",
    "    square = i**2\n",
    "    sum = sum + square \n",
    "    print(sum)'''\n"
   ]
  },
  {
   "cell_type": "code",
   "execution_count": null,
   "metadata": {},
   "outputs": [],
   "source": [
    "# Given 2 fractions, find the sum of those 2 fractions.Take the numerator and denominator values of the fractions from the user.\n",
    "\n",
    "num1,den1 = int(input()),int(input())\n",
    "num2,den2 = int(input()),int(input())\n",
    "\n",
    "sum_frac = (num1/den1)+(num2/den2)\n",
    "sum_frac\n",
    "\n"
   ]
  },
  {
   "cell_type": "code",
   "execution_count": null,
   "metadata": {},
   "outputs": [],
   "source": [
    "# Given the height, width and breadth of a milk tank, you have to find out how many glasses of milk can be obtained? Assume all the inputs are provided by the user.\n",
    "\n",
    "L = int(input())\n",
    "B = int(input())\n",
    "H = int(input())\n",
    "\n",
    "\n",
    "r_g = int(input())\n",
    "h_g = int(input())\n",
    "\n",
    "volume_tank = L*B*H\n",
    "volume_glass = 3.14 * r_g**2 * h_g\n",
    "\n",
    "no_of_glass = volume_tank/volume_glass"
   ]
  }
 ],
 "metadata": {
  "kernelspec": {
   "display_name": "Python 3",
   "language": "python",
   "name": "python3"
  },
  "language_info": {
   "codemirror_mode": {
    "name": "ipython",
    "version": 3
   },
   "file_extension": ".py",
   "mimetype": "text/x-python",
   "name": "python",
   "nbconvert_exporter": "python",
   "pygments_lexer": "ipython3",
   "version": "3.12.3"
  }
 },
 "nbformat": 4,
 "nbformat_minor": 2
}
