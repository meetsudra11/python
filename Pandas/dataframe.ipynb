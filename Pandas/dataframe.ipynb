{
 "cells": [
  {
   "cell_type": "code",
   "execution_count": 26,
   "metadata": {},
   "outputs": [],
   "source": [
    "import numpy as np \n",
    "import pandas as pd "
   ]
  },
  {
   "cell_type": "markdown",
   "metadata": {},
   "source": [
    "### Creating Dataframe"
   ]
  },
  {
   "cell_type": "code",
   "execution_count": 27,
   "metadata": {},
   "outputs": [],
   "source": [
    "stud_data = [\n",
    "    [100,80,10], # iq, marks, package\n",
    "    [90,70,7],\n",
    "    [120,100,14],\n",
    "    [80,50,2]\n",
    "]\n",
    "stud_data = pd.DataFrame(stud_data,columns=['iq','marks','package'])"
   ]
  },
  {
   "cell_type": "code",
   "execution_count": 28,
   "metadata": {},
   "outputs": [
    {
     "data": {
      "text/html": [
       "<div>\n",
       "<style scoped>\n",
       "    .dataframe tbody tr th:only-of-type {\n",
       "        vertical-align: middle;\n",
       "    }\n",
       "\n",
       "    .dataframe tbody tr th {\n",
       "        vertical-align: top;\n",
       "    }\n",
       "\n",
       "    .dataframe thead th {\n",
       "        text-align: right;\n",
       "    }\n",
       "</style>\n",
       "<table border=\"1\" class=\"dataframe\">\n",
       "  <thead>\n",
       "    <tr style=\"text-align: right;\">\n",
       "      <th></th>\n",
       "      <th>iq</th>\n",
       "      <th>marks</th>\n",
       "      <th>package</th>\n",
       "    </tr>\n",
       "  </thead>\n",
       "  <tbody>\n",
       "    <tr>\n",
       "      <th>0</th>\n",
       "      <td>100</td>\n",
       "      <td>80</td>\n",
       "      <td>10</td>\n",
       "    </tr>\n",
       "    <tr>\n",
       "      <th>1</th>\n",
       "      <td>90</td>\n",
       "      <td>70</td>\n",
       "      <td>7</td>\n",
       "    </tr>\n",
       "    <tr>\n",
       "      <th>2</th>\n",
       "      <td>120</td>\n",
       "      <td>100</td>\n",
       "      <td>14</td>\n",
       "    </tr>\n",
       "    <tr>\n",
       "      <th>3</th>\n",
       "      <td>80</td>\n",
       "      <td>50</td>\n",
       "      <td>2</td>\n",
       "    </tr>\n",
       "  </tbody>\n",
       "</table>\n",
       "</div>"
      ],
      "text/plain": [
       "    iq  marks  package\n",
       "0  100     80       10\n",
       "1   90     70        7\n",
       "2  120    100       14\n",
       "3   80     50        2"
      ]
     },
     "execution_count": 28,
     "metadata": {},
     "output_type": "execute_result"
    }
   ],
   "source": [
    "# usinf dicts \n",
    "\n",
    "stud_dict = {\n",
    "    'iq':[100,90,120,80],\n",
    "    'marks':[80,70,100,50],\n",
    "    'package':[10,7,14,2]\n",
    "}\n",
    "pd.DataFrame(stud_dict)"
   ]
  },
  {
   "cell_type": "code",
   "execution_count": 29,
   "metadata": {},
   "outputs": [],
   "source": [
    "mv = pd.read_csv('movies.csv')\n",
    "ipl = pd.read_csv('ipl-matches.csv')"
   ]
  },
  {
   "cell_type": "code",
   "execution_count": 30,
   "metadata": {},
   "outputs": [
    {
     "data": {
      "text/plain": [
       "(1629, 18)"
      ]
     },
     "execution_count": 30,
     "metadata": {},
     "output_type": "execute_result"
    }
   ],
   "source": [
    "mv.shape"
   ]
  },
  {
   "cell_type": "code",
   "execution_count": 31,
   "metadata": {},
   "outputs": [
    {
     "data": {
      "text/plain": [
       "title_x              object\n",
       "imdb_id              object\n",
       "poster_path          object\n",
       "wiki_link            object\n",
       "title_y              object\n",
       "original_title       object\n",
       "is_adult              int64\n",
       "year_of_release       int64\n",
       "runtime              object\n",
       "genres               object\n",
       "imdb_rating         float64\n",
       "imdb_votes            int64\n",
       "story                object\n",
       "summary              object\n",
       "tagline              object\n",
       "actors               object\n",
       "wins_nominations     object\n",
       "release_date         object\n",
       "dtype: object"
      ]
     },
     "execution_count": 31,
     "metadata": {},
     "output_type": "execute_result"
    }
   ],
   "source": [
    "mv.dtypes"
   ]
  },
  {
   "cell_type": "code",
   "execution_count": 32,
   "metadata": {},
   "outputs": [
    {
     "data": {
      "text/plain": [
       "RangeIndex(start=0, stop=1629, step=1)"
      ]
     },
     "execution_count": 32,
     "metadata": {},
     "output_type": "execute_result"
    }
   ],
   "source": [
    "mv.index"
   ]
  },
  {
   "cell_type": "code",
   "execution_count": 33,
   "metadata": {},
   "outputs": [
    {
     "data": {
      "text/plain": [
       "Index(['title_x', 'imdb_id', 'poster_path', 'wiki_link', 'title_y',\n",
       "       'original_title', 'is_adult', 'year_of_release', 'runtime', 'genres',\n",
       "       'imdb_rating', 'imdb_votes', 'story', 'summary', 'tagline', 'actors',\n",
       "       'wins_nominations', 'release_date'],\n",
       "      dtype='object')"
      ]
     },
     "execution_count": 33,
     "metadata": {},
     "output_type": "execute_result"
    }
   ],
   "source": [
    "mv.columns"
   ]
  },
  {
   "cell_type": "code",
   "execution_count": 34,
   "metadata": {},
   "outputs": [
    {
     "data": {
      "text/plain": [
       "array([[100,  80,  10],\n",
       "       [ 90,  70,   7],\n",
       "       [120, 100,  14],\n",
       "       [ 80,  50,   2]])"
      ]
     },
     "execution_count": 34,
     "metadata": {},
     "output_type": "execute_result"
    }
   ],
   "source": [
    "stud_data.values"
   ]
  },
  {
   "cell_type": "markdown",
   "metadata": {},
   "source": [
    "### Functions"
   ]
  },
  {
   "cell_type": "code",
   "execution_count": 35,
   "metadata": {},
   "outputs": [
    {
     "data": {
      "text/html": [
       "<div>\n",
       "<style scoped>\n",
       "    .dataframe tbody tr th:only-of-type {\n",
       "        vertical-align: middle;\n",
       "    }\n",
       "\n",
       "    .dataframe tbody tr th {\n",
       "        vertical-align: top;\n",
       "    }\n",
       "\n",
       "    .dataframe thead th {\n",
       "        text-align: right;\n",
       "    }\n",
       "</style>\n",
       "<table border=\"1\" class=\"dataframe\">\n",
       "  <thead>\n",
       "    <tr style=\"text-align: right;\">\n",
       "      <th></th>\n",
       "      <th>iq</th>\n",
       "      <th>marks</th>\n",
       "      <th>package</th>\n",
       "    </tr>\n",
       "  </thead>\n",
       "  <tbody>\n",
       "    <tr>\n",
       "      <th>0</th>\n",
       "      <td>100</td>\n",
       "      <td>80</td>\n",
       "      <td>10</td>\n",
       "    </tr>\n",
       "    <tr>\n",
       "      <th>1</th>\n",
       "      <td>90</td>\n",
       "      <td>70</td>\n",
       "      <td>7</td>\n",
       "    </tr>\n",
       "  </tbody>\n",
       "</table>\n",
       "</div>"
      ],
      "text/plain": [
       "    iq  marks  package\n",
       "0  100     80       10\n",
       "1   90     70        7"
      ]
     },
     "execution_count": 35,
     "metadata": {},
     "output_type": "execute_result"
    }
   ],
   "source": [
    "mv.head()\n",
    "stud_data.head(2)"
   ]
  },
  {
   "cell_type": "code",
   "execution_count": 36,
   "metadata": {},
   "outputs": [
    {
     "data": {
      "text/html": [
       "<div>\n",
       "<style scoped>\n",
       "    .dataframe tbody tr th:only-of-type {\n",
       "        vertical-align: middle;\n",
       "    }\n",
       "\n",
       "    .dataframe tbody tr th {\n",
       "        vertical-align: top;\n",
       "    }\n",
       "\n",
       "    .dataframe thead th {\n",
       "        text-align: right;\n",
       "    }\n",
       "</style>\n",
       "<table border=\"1\" class=\"dataframe\">\n",
       "  <thead>\n",
       "    <tr style=\"text-align: right;\">\n",
       "      <th></th>\n",
       "      <th>ID</th>\n",
       "      <th>City</th>\n",
       "      <th>Date</th>\n",
       "      <th>Season</th>\n",
       "      <th>MatchNumber</th>\n",
       "      <th>Team1</th>\n",
       "      <th>Team2</th>\n",
       "      <th>Venue</th>\n",
       "      <th>TossWinner</th>\n",
       "      <th>TossDecision</th>\n",
       "      <th>SuperOver</th>\n",
       "      <th>WinningTeam</th>\n",
       "      <th>WonBy</th>\n",
       "      <th>Margin</th>\n",
       "      <th>method</th>\n",
       "      <th>Player_of_Match</th>\n",
       "      <th>Team1Players</th>\n",
       "      <th>Team2Players</th>\n",
       "      <th>Umpire1</th>\n",
       "      <th>Umpire2</th>\n",
       "    </tr>\n",
       "  </thead>\n",
       "  <tbody>\n",
       "    <tr>\n",
       "      <th>948</th>\n",
       "      <td>335983</td>\n",
       "      <td>Chandigarh</td>\n",
       "      <td>2008-04-19</td>\n",
       "      <td>2007/08</td>\n",
       "      <td>2</td>\n",
       "      <td>Kings XI Punjab</td>\n",
       "      <td>Chennai Super Kings</td>\n",
       "      <td>Punjab Cricket Association Stadium, Mohali</td>\n",
       "      <td>Chennai Super Kings</td>\n",
       "      <td>bat</td>\n",
       "      <td>N</td>\n",
       "      <td>Chennai Super Kings</td>\n",
       "      <td>Runs</td>\n",
       "      <td>33.0</td>\n",
       "      <td>NaN</td>\n",
       "      <td>MEK Hussey</td>\n",
       "      <td>['K Goel', 'JR Hopes', 'KC Sangakkara', 'Yuvra...</td>\n",
       "      <td>['PA Patel', 'ML Hayden', 'MEK Hussey', 'MS Dh...</td>\n",
       "      <td>MR Benson</td>\n",
       "      <td>SL Shastri</td>\n",
       "    </tr>\n",
       "    <tr>\n",
       "      <th>949</th>\n",
       "      <td>335982</td>\n",
       "      <td>Bangalore</td>\n",
       "      <td>2008-04-18</td>\n",
       "      <td>2007/08</td>\n",
       "      <td>1</td>\n",
       "      <td>Royal Challengers Bangalore</td>\n",
       "      <td>Kolkata Knight Riders</td>\n",
       "      <td>M Chinnaswamy Stadium</td>\n",
       "      <td>Royal Challengers Bangalore</td>\n",
       "      <td>field</td>\n",
       "      <td>N</td>\n",
       "      <td>Kolkata Knight Riders</td>\n",
       "      <td>Runs</td>\n",
       "      <td>140.0</td>\n",
       "      <td>NaN</td>\n",
       "      <td>BB McCullum</td>\n",
       "      <td>['R Dravid', 'W Jaffer', 'V Kohli', 'JH Kallis...</td>\n",
       "      <td>['SC Ganguly', 'BB McCullum', 'RT Ponting', 'D...</td>\n",
       "      <td>Asad Rauf</td>\n",
       "      <td>RE Koertzen</td>\n",
       "    </tr>\n",
       "  </tbody>\n",
       "</table>\n",
       "</div>"
      ],
      "text/plain": [
       "         ID        City        Date   Season MatchNumber  \\\n",
       "948  335983  Chandigarh  2008-04-19  2007/08           2   \n",
       "949  335982   Bangalore  2008-04-18  2007/08           1   \n",
       "\n",
       "                           Team1                  Team2  \\\n",
       "948              Kings XI Punjab    Chennai Super Kings   \n",
       "949  Royal Challengers Bangalore  Kolkata Knight Riders   \n",
       "\n",
       "                                          Venue                   TossWinner  \\\n",
       "948  Punjab Cricket Association Stadium, Mohali          Chennai Super Kings   \n",
       "949                       M Chinnaswamy Stadium  Royal Challengers Bangalore   \n",
       "\n",
       "    TossDecision SuperOver            WinningTeam WonBy  Margin method  \\\n",
       "948          bat         N    Chennai Super Kings  Runs    33.0    NaN   \n",
       "949        field         N  Kolkata Knight Riders  Runs   140.0    NaN   \n",
       "\n",
       "    Player_of_Match                                       Team1Players  \\\n",
       "948      MEK Hussey  ['K Goel', 'JR Hopes', 'KC Sangakkara', 'Yuvra...   \n",
       "949     BB McCullum  ['R Dravid', 'W Jaffer', 'V Kohli', 'JH Kallis...   \n",
       "\n",
       "                                          Team2Players    Umpire1      Umpire2  \n",
       "948  ['PA Patel', 'ML Hayden', 'MEK Hussey', 'MS Dh...  MR Benson   SL Shastri  \n",
       "949  ['SC Ganguly', 'BB McCullum', 'RT Ponting', 'D...  Asad Rauf  RE Koertzen  "
      ]
     },
     "execution_count": 36,
     "metadata": {},
     "output_type": "execute_result"
    }
   ],
   "source": [
    "ipl.tail(2) # last 2 nikalk dega "
   ]
  },
  {
   "cell_type": "code",
   "execution_count": 37,
   "metadata": {},
   "outputs": [
    {
     "data": {
      "text/html": [
       "<div>\n",
       "<style scoped>\n",
       "    .dataframe tbody tr th:only-of-type {\n",
       "        vertical-align: middle;\n",
       "    }\n",
       "\n",
       "    .dataframe tbody tr th {\n",
       "        vertical-align: top;\n",
       "    }\n",
       "\n",
       "    .dataframe thead th {\n",
       "        text-align: right;\n",
       "    }\n",
       "</style>\n",
       "<table border=\"1\" class=\"dataframe\">\n",
       "  <thead>\n",
       "    <tr style=\"text-align: right;\">\n",
       "      <th></th>\n",
       "      <th>ID</th>\n",
       "      <th>City</th>\n",
       "      <th>Date</th>\n",
       "      <th>Season</th>\n",
       "      <th>MatchNumber</th>\n",
       "      <th>Team1</th>\n",
       "      <th>Team2</th>\n",
       "      <th>Venue</th>\n",
       "      <th>TossWinner</th>\n",
       "      <th>TossDecision</th>\n",
       "      <th>SuperOver</th>\n",
       "      <th>WinningTeam</th>\n",
       "      <th>WonBy</th>\n",
       "      <th>Margin</th>\n",
       "      <th>method</th>\n",
       "      <th>Player_of_Match</th>\n",
       "      <th>Team1Players</th>\n",
       "      <th>Team2Players</th>\n",
       "      <th>Umpire1</th>\n",
       "      <th>Umpire2</th>\n",
       "    </tr>\n",
       "  </thead>\n",
       "  <tbody>\n",
       "    <tr>\n",
       "      <th>839</th>\n",
       "      <td>392235</td>\n",
       "      <td>Centurion</td>\n",
       "      <td>2009-05-21</td>\n",
       "      <td>2009</td>\n",
       "      <td>55</td>\n",
       "      <td>Delhi Daredevils</td>\n",
       "      <td>Mumbai Indians</td>\n",
       "      <td>SuperSport Park</td>\n",
       "      <td>Delhi Daredevils</td>\n",
       "      <td>field</td>\n",
       "      <td>N</td>\n",
       "      <td>Delhi Daredevils</td>\n",
       "      <td>Wickets</td>\n",
       "      <td>4.0</td>\n",
       "      <td>NaN</td>\n",
       "      <td>V Sehwag</td>\n",
       "      <td>['G Gambhir', 'DA Warner', 'V Sehwag', 'TM Dil...</td>\n",
       "      <td>['ST Jayasuriya', 'SR Tendulkar', 'JP Duminy',...</td>\n",
       "      <td>IL Howell</td>\n",
       "      <td>S Ravi</td>\n",
       "    </tr>\n",
       "  </tbody>\n",
       "</table>\n",
       "</div>"
      ],
      "text/plain": [
       "         ID       City        Date Season MatchNumber             Team1  \\\n",
       "839  392235  Centurion  2009-05-21   2009          55  Delhi Daredevils   \n",
       "\n",
       "              Team2            Venue        TossWinner TossDecision SuperOver  \\\n",
       "839  Mumbai Indians  SuperSport Park  Delhi Daredevils        field         N   \n",
       "\n",
       "          WinningTeam    WonBy  Margin method Player_of_Match  \\\n",
       "839  Delhi Daredevils  Wickets     4.0    NaN        V Sehwag   \n",
       "\n",
       "                                          Team1Players  \\\n",
       "839  ['G Gambhir', 'DA Warner', 'V Sehwag', 'TM Dil...   \n",
       "\n",
       "                                          Team2Players    Umpire1 Umpire2  \n",
       "839  ['ST Jayasuriya', 'SR Tendulkar', 'JP Duminy',...  IL Howell  S Ravi  "
      ]
     },
     "execution_count": 37,
     "metadata": {},
     "output_type": "execute_result"
    }
   ],
   "source": [
    "ipl.sample()"
   ]
  },
  {
   "cell_type": "code",
   "execution_count": 38,
   "metadata": {},
   "outputs": [
    {
     "name": "stdout",
     "output_type": "stream",
     "text": [
      "<class 'pandas.core.frame.DataFrame'>\n",
      "RangeIndex: 950 entries, 0 to 949\n",
      "Data columns (total 20 columns):\n",
      " #   Column           Non-Null Count  Dtype  \n",
      "---  ------           --------------  -----  \n",
      " 0   ID               950 non-null    int64  \n",
      " 1   City             899 non-null    object \n",
      " 2   Date             950 non-null    object \n",
      " 3   Season           950 non-null    object \n",
      " 4   MatchNumber      950 non-null    object \n",
      " 5   Team1            950 non-null    object \n",
      " 6   Team2            950 non-null    object \n",
      " 7   Venue            950 non-null    object \n",
      " 8   TossWinner       950 non-null    object \n",
      " 9   TossDecision     950 non-null    object \n",
      " 10  SuperOver        946 non-null    object \n",
      " 11  WinningTeam      946 non-null    object \n",
      " 12  WonBy            950 non-null    object \n",
      " 13  Margin           932 non-null    float64\n",
      " 14  method           19 non-null     object \n",
      " 15  Player_of_Match  946 non-null    object \n",
      " 16  Team1Players     950 non-null    object \n",
      " 17  Team2Players     950 non-null    object \n",
      " 18  Umpire1          950 non-null    object \n",
      " 19  Umpire2          950 non-null    object \n",
      "dtypes: float64(1), int64(1), object(18)\n",
      "memory usage: 148.6+ KB\n"
     ]
    }
   ],
   "source": [
    "ipl.info()"
   ]
  },
  {
   "cell_type": "code",
   "execution_count": 39,
   "metadata": {},
   "outputs": [
    {
     "data": {
      "text/plain": [
       "ID                   0\n",
       "City                51\n",
       "Date                 0\n",
       "Season               0\n",
       "MatchNumber          0\n",
       "Team1                0\n",
       "Team2                0\n",
       "Venue                0\n",
       "TossWinner           0\n",
       "TossDecision         0\n",
       "SuperOver            4\n",
       "WinningTeam          4\n",
       "WonBy                0\n",
       "Margin              18\n",
       "method             931\n",
       "Player_of_Match      4\n",
       "Team1Players         0\n",
       "Team2Players         0\n",
       "Umpire1              0\n",
       "Umpire2              0\n",
       "dtype: int64"
      ]
     },
     "execution_count": 39,
     "metadata": {},
     "output_type": "execute_result"
    }
   ],
   "source": [
    "ipl.isnull().sum()"
   ]
  },
  {
   "cell_type": "code",
   "execution_count": 40,
   "metadata": {},
   "outputs": [
    {
     "data": {
      "text/html": [
       "<div>\n",
       "<style scoped>\n",
       "    .dataframe tbody tr th:only-of-type {\n",
       "        vertical-align: middle;\n",
       "    }\n",
       "\n",
       "    .dataframe tbody tr th {\n",
       "        vertical-align: top;\n",
       "    }\n",
       "\n",
       "    .dataframe thead th {\n",
       "        text-align: right;\n",
       "    }\n",
       "</style>\n",
       "<table border=\"1\" class=\"dataframe\">\n",
       "  <thead>\n",
       "    <tr style=\"text-align: right;\">\n",
       "      <th></th>\n",
       "      <th>iq</th>\n",
       "      <th>marks</th>\n",
       "      <th>package</th>\n",
       "    </tr>\n",
       "  </thead>\n",
       "  <tbody>\n",
       "    <tr>\n",
       "      <th>count</th>\n",
       "      <td>4.000000</td>\n",
       "      <td>4.00000</td>\n",
       "      <td>4.000000</td>\n",
       "    </tr>\n",
       "    <tr>\n",
       "      <th>mean</th>\n",
       "      <td>97.500000</td>\n",
       "      <td>75.00000</td>\n",
       "      <td>8.250000</td>\n",
       "    </tr>\n",
       "    <tr>\n",
       "      <th>std</th>\n",
       "      <td>17.078251</td>\n",
       "      <td>20.81666</td>\n",
       "      <td>5.057997</td>\n",
       "    </tr>\n",
       "    <tr>\n",
       "      <th>min</th>\n",
       "      <td>80.000000</td>\n",
       "      <td>50.00000</td>\n",
       "      <td>2.000000</td>\n",
       "    </tr>\n",
       "    <tr>\n",
       "      <th>25%</th>\n",
       "      <td>87.500000</td>\n",
       "      <td>65.00000</td>\n",
       "      <td>5.750000</td>\n",
       "    </tr>\n",
       "    <tr>\n",
       "      <th>50%</th>\n",
       "      <td>95.000000</td>\n",
       "      <td>75.00000</td>\n",
       "      <td>8.500000</td>\n",
       "    </tr>\n",
       "    <tr>\n",
       "      <th>75%</th>\n",
       "      <td>105.000000</td>\n",
       "      <td>85.00000</td>\n",
       "      <td>11.000000</td>\n",
       "    </tr>\n",
       "    <tr>\n",
       "      <th>max</th>\n",
       "      <td>120.000000</td>\n",
       "      <td>100.00000</td>\n",
       "      <td>14.000000</td>\n",
       "    </tr>\n",
       "  </tbody>\n",
       "</table>\n",
       "</div>"
      ],
      "text/plain": [
       "               iq      marks    package\n",
       "count    4.000000    4.00000   4.000000\n",
       "mean    97.500000   75.00000   8.250000\n",
       "std     17.078251   20.81666   5.057997\n",
       "min     80.000000   50.00000   2.000000\n",
       "25%     87.500000   65.00000   5.750000\n",
       "50%     95.000000   75.00000   8.500000\n",
       "75%    105.000000   85.00000  11.000000\n",
       "max    120.000000  100.00000  14.000000"
      ]
     },
     "execution_count": 40,
     "metadata": {},
     "output_type": "execute_result"
    }
   ],
   "source": [
    "stud_data.describe()"
   ]
  },
  {
   "cell_type": "code",
   "execution_count": 41,
   "metadata": {},
   "outputs": [
    {
     "data": {
      "text/plain": [
       "0"
      ]
     },
     "execution_count": 41,
     "metadata": {},
     "output_type": "execute_result"
    }
   ],
   "source": [
    "stud_data.duplicated().sum()"
   ]
  },
  {
   "cell_type": "code",
   "execution_count": 42,
   "metadata": {},
   "outputs": [],
   "source": [
    "stud_data.rename(columns={'iq':'dimag'},inplace=True) # inplace=True is for permananet change "
   ]
  },
  {
   "cell_type": "markdown",
   "metadata": {},
   "source": [
    "### Math methods "
   ]
  },
  {
   "cell_type": "code",
   "execution_count": 43,
   "metadata": {},
   "outputs": [
    {
     "data": {
      "text/plain": [
       "dimag      97.50\n",
       "marks      75.00\n",
       "package     8.25\n",
       "dtype: float64"
      ]
     },
     "execution_count": 43,
     "metadata": {},
     "output_type": "execute_result"
    }
   ],
   "source": [
    "stud_data.mean()"
   ]
  },
  {
   "cell_type": "code",
   "execution_count": 44,
   "metadata": {},
   "outputs": [
    {
     "data": {
      "text/plain": [
       "dimag      120\n",
       "marks      100\n",
       "package     14\n",
       "dtype: int64"
      ]
     },
     "execution_count": 44,
     "metadata": {},
     "output_type": "execute_result"
    }
   ],
   "source": [
    "stud_data.max()"
   ]
  },
  {
   "cell_type": "code",
   "execution_count": 45,
   "metadata": {},
   "outputs": [
    {
     "data": {
      "text/plain": [
       "dimag      390\n",
       "marks      300\n",
       "package     33\n",
       "dtype: int64"
      ]
     },
     "execution_count": 45,
     "metadata": {},
     "output_type": "execute_result"
    }
   ],
   "source": [
    "stud_data.sum()"
   ]
  },
  {
   "cell_type": "code",
   "execution_count": 46,
   "metadata": {},
   "outputs": [
    {
     "data": {
      "text/plain": [
       "dimag      17.078251\n",
       "marks      20.816660\n",
       "package     5.057997\n",
       "dtype: float64"
      ]
     },
     "execution_count": 46,
     "metadata": {},
     "output_type": "execute_result"
    }
   ],
   "source": [
    "stud_data.std()"
   ]
  },
  {
   "cell_type": "markdown",
   "metadata": {},
   "source": [
    "### Selecting rows and Columns from a Dataframe"
   ]
  },
  {
   "cell_type": "code",
   "execution_count": 47,
   "metadata": {},
   "outputs": [
    {
     "data": {
      "text/plain": [
       "pandas.core.series.Series"
      ]
     },
     "execution_count": 47,
     "metadata": {},
     "output_type": "execute_result"
    }
   ],
   "source": [
    "mv['title_x'] # particular column\n",
    "type(mv['title_x'])"
   ]
  },
  {
   "cell_type": "code",
   "execution_count": 48,
   "metadata": {},
   "outputs": [
    {
     "data": {
      "text/html": [
       "<div>\n",
       "<style scoped>\n",
       "    .dataframe tbody tr th:only-of-type {\n",
       "        vertical-align: middle;\n",
       "    }\n",
       "\n",
       "    .dataframe tbody tr th {\n",
       "        vertical-align: top;\n",
       "    }\n",
       "\n",
       "    .dataframe thead th {\n",
       "        text-align: right;\n",
       "    }\n",
       "</style>\n",
       "<table border=\"1\" class=\"dataframe\">\n",
       "  <thead>\n",
       "    <tr style=\"text-align: right;\">\n",
       "      <th></th>\n",
       "      <th>Team1</th>\n",
       "      <th>Team2</th>\n",
       "      <th>WinningTeam</th>\n",
       "    </tr>\n",
       "  </thead>\n",
       "  <tbody>\n",
       "    <tr>\n",
       "      <th>0</th>\n",
       "      <td>Rajasthan Royals</td>\n",
       "      <td>Gujarat Titans</td>\n",
       "      <td>Gujarat Titans</td>\n",
       "    </tr>\n",
       "    <tr>\n",
       "      <th>1</th>\n",
       "      <td>Royal Challengers Bangalore</td>\n",
       "      <td>Rajasthan Royals</td>\n",
       "      <td>Rajasthan Royals</td>\n",
       "    </tr>\n",
       "    <tr>\n",
       "      <th>2</th>\n",
       "      <td>Royal Challengers Bangalore</td>\n",
       "      <td>Lucknow Super Giants</td>\n",
       "      <td>Royal Challengers Bangalore</td>\n",
       "    </tr>\n",
       "    <tr>\n",
       "      <th>3</th>\n",
       "      <td>Rajasthan Royals</td>\n",
       "      <td>Gujarat Titans</td>\n",
       "      <td>Gujarat Titans</td>\n",
       "    </tr>\n",
       "    <tr>\n",
       "      <th>4</th>\n",
       "      <td>Sunrisers Hyderabad</td>\n",
       "      <td>Punjab Kings</td>\n",
       "      <td>Punjab Kings</td>\n",
       "    </tr>\n",
       "    <tr>\n",
       "      <th>...</th>\n",
       "      <td>...</td>\n",
       "      <td>...</td>\n",
       "      <td>...</td>\n",
       "    </tr>\n",
       "    <tr>\n",
       "      <th>945</th>\n",
       "      <td>Kolkata Knight Riders</td>\n",
       "      <td>Deccan Chargers</td>\n",
       "      <td>Kolkata Knight Riders</td>\n",
       "    </tr>\n",
       "    <tr>\n",
       "      <th>946</th>\n",
       "      <td>Mumbai Indians</td>\n",
       "      <td>Royal Challengers Bangalore</td>\n",
       "      <td>Royal Challengers Bangalore</td>\n",
       "    </tr>\n",
       "    <tr>\n",
       "      <th>947</th>\n",
       "      <td>Delhi Daredevils</td>\n",
       "      <td>Rajasthan Royals</td>\n",
       "      <td>Delhi Daredevils</td>\n",
       "    </tr>\n",
       "    <tr>\n",
       "      <th>948</th>\n",
       "      <td>Kings XI Punjab</td>\n",
       "      <td>Chennai Super Kings</td>\n",
       "      <td>Chennai Super Kings</td>\n",
       "    </tr>\n",
       "    <tr>\n",
       "      <th>949</th>\n",
       "      <td>Royal Challengers Bangalore</td>\n",
       "      <td>Kolkata Knight Riders</td>\n",
       "      <td>Kolkata Knight Riders</td>\n",
       "    </tr>\n",
       "  </tbody>\n",
       "</table>\n",
       "<p>950 rows × 3 columns</p>\n",
       "</div>"
      ],
      "text/plain": [
       "                           Team1                        Team2  \\\n",
       "0               Rajasthan Royals               Gujarat Titans   \n",
       "1    Royal Challengers Bangalore             Rajasthan Royals   \n",
       "2    Royal Challengers Bangalore         Lucknow Super Giants   \n",
       "3               Rajasthan Royals               Gujarat Titans   \n",
       "4            Sunrisers Hyderabad                 Punjab Kings   \n",
       "..                           ...                          ...   \n",
       "945        Kolkata Knight Riders              Deccan Chargers   \n",
       "946               Mumbai Indians  Royal Challengers Bangalore   \n",
       "947             Delhi Daredevils             Rajasthan Royals   \n",
       "948              Kings XI Punjab          Chennai Super Kings   \n",
       "949  Royal Challengers Bangalore        Kolkata Knight Riders   \n",
       "\n",
       "                     WinningTeam  \n",
       "0                 Gujarat Titans  \n",
       "1               Rajasthan Royals  \n",
       "2    Royal Challengers Bangalore  \n",
       "3                 Gujarat Titans  \n",
       "4                   Punjab Kings  \n",
       "..                           ...  \n",
       "945        Kolkata Knight Riders  \n",
       "946  Royal Challengers Bangalore  \n",
       "947             Delhi Daredevils  \n",
       "948          Chennai Super Kings  \n",
       "949        Kolkata Knight Riders  \n",
       "\n",
       "[950 rows x 3 columns]"
      ]
     },
     "execution_count": 48,
     "metadata": {},
     "output_type": "execute_result"
    }
   ],
   "source": [
    "ipl[['Team1','Team2','WinningTeam']]"
   ]
  },
  {
   "cell_type": "code",
   "execution_count": 49,
   "metadata": {},
   "outputs": [],
   "source": [
    "data = {\n",
    "    'name':['Meet','Leet','Keet','Heet','Jeet'],\n",
    "    'iq':[100,80,10,123,12], # iq, marks, package\n",
    "    'marks':[90,70,87,53,62],\n",
    "    'package':[12,8,7,9,6]\n",
    "    }\n",
    "data = pd.DataFrame(data)"
   ]
  },
  {
   "cell_type": "code",
   "execution_count": 50,
   "metadata": {},
   "outputs": [],
   "source": [
    "data.set_index('name',inplace=True)"
   ]
  },
  {
   "cell_type": "code",
   "execution_count": 51,
   "metadata": {},
   "outputs": [
    {
     "data": {
      "text/html": [
       "<div>\n",
       "<style scoped>\n",
       "    .dataframe tbody tr th:only-of-type {\n",
       "        vertical-align: middle;\n",
       "    }\n",
       "\n",
       "    .dataframe tbody tr th {\n",
       "        vertical-align: top;\n",
       "    }\n",
       "\n",
       "    .dataframe thead th {\n",
       "        text-align: right;\n",
       "    }\n",
       "</style>\n",
       "<table border=\"1\" class=\"dataframe\">\n",
       "  <thead>\n",
       "    <tr style=\"text-align: right;\">\n",
       "      <th></th>\n",
       "      <th>iq</th>\n",
       "      <th>marks</th>\n",
       "      <th>package</th>\n",
       "    </tr>\n",
       "    <tr>\n",
       "      <th>name</th>\n",
       "      <th></th>\n",
       "      <th></th>\n",
       "      <th></th>\n",
       "    </tr>\n",
       "  </thead>\n",
       "  <tbody>\n",
       "    <tr>\n",
       "      <th>Meet</th>\n",
       "      <td>100</td>\n",
       "      <td>90</td>\n",
       "      <td>12</td>\n",
       "    </tr>\n",
       "    <tr>\n",
       "      <th>Leet</th>\n",
       "      <td>80</td>\n",
       "      <td>70</td>\n",
       "      <td>8</td>\n",
       "    </tr>\n",
       "  </tbody>\n",
       "</table>\n",
       "</div>"
      ],
      "text/plain": [
       "       iq  marks  package\n",
       "name                     \n",
       "Meet  100     90       12\n",
       "Leet   80     70        8"
      ]
     },
     "execution_count": 51,
     "metadata": {},
     "output_type": "execute_result"
    }
   ],
   "source": [
    "# iloc : searches using index position \n",
    "# loc : searches using index labels \n",
    "\n",
    "data.iloc[[4,0]]\n",
    "data.iloc[0:2]"
   ]
  },
  {
   "cell_type": "code",
   "execution_count": 52,
   "metadata": {},
   "outputs": [
    {
     "data": {
      "text/html": [
       "<div>\n",
       "<style scoped>\n",
       "    .dataframe tbody tr th:only-of-type {\n",
       "        vertical-align: middle;\n",
       "    }\n",
       "\n",
       "    .dataframe tbody tr th {\n",
       "        vertical-align: top;\n",
       "    }\n",
       "\n",
       "    .dataframe thead th {\n",
       "        text-align: right;\n",
       "    }\n",
       "</style>\n",
       "<table border=\"1\" class=\"dataframe\">\n",
       "  <thead>\n",
       "    <tr style=\"text-align: right;\">\n",
       "      <th></th>\n",
       "      <th>title_x</th>\n",
       "      <th>imdb_id</th>\n",
       "      <th>poster_path</th>\n",
       "      <th>wiki_link</th>\n",
       "      <th>title_y</th>\n",
       "      <th>original_title</th>\n",
       "      <th>is_adult</th>\n",
       "      <th>year_of_release</th>\n",
       "      <th>runtime</th>\n",
       "      <th>genres</th>\n",
       "      <th>imdb_rating</th>\n",
       "      <th>imdb_votes</th>\n",
       "      <th>story</th>\n",
       "      <th>summary</th>\n",
       "      <th>tagline</th>\n",
       "      <th>actors</th>\n",
       "      <th>wins_nominations</th>\n",
       "      <th>release_date</th>\n",
       "    </tr>\n",
       "  </thead>\n",
       "  <tbody>\n",
       "    <tr>\n",
       "      <th>2</th>\n",
       "      <td>The Accidental Prime Minister (film)</td>\n",
       "      <td>tt6986710</td>\n",
       "      <td>https://upload.wikimedia.org/wikipedia/en/thum...</td>\n",
       "      <td>https://en.wikipedia.org/wiki/The_Accidental_P...</td>\n",
       "      <td>The Accidental Prime Minister</td>\n",
       "      <td>The Accidental Prime Minister</td>\n",
       "      <td>0</td>\n",
       "      <td>2019</td>\n",
       "      <td>112</td>\n",
       "      <td>Biography|Drama</td>\n",
       "      <td>6.1</td>\n",
       "      <td>5549</td>\n",
       "      <td>Based on the memoir by Indian policy analyst S...</td>\n",
       "      <td>Explores Manmohan Singh's tenure as the Prime ...</td>\n",
       "      <td>NaN</td>\n",
       "      <td>Anupam Kher|Akshaye Khanna|Aahana Kumra|Atul S...</td>\n",
       "      <td>NaN</td>\n",
       "      <td>11 January 2019 (USA)</td>\n",
       "    </tr>\n",
       "    <tr>\n",
       "      <th>4</th>\n",
       "      <td>Evening Shadows</td>\n",
       "      <td>tt6028796</td>\n",
       "      <td>NaN</td>\n",
       "      <td>https://en.wikipedia.org/wiki/Evening_Shadows</td>\n",
       "      <td>Evening Shadows</td>\n",
       "      <td>Evening Shadows</td>\n",
       "      <td>0</td>\n",
       "      <td>2018</td>\n",
       "      <td>102</td>\n",
       "      <td>Drama</td>\n",
       "      <td>7.3</td>\n",
       "      <td>280</td>\n",
       "      <td>While gay rights and marriage equality has bee...</td>\n",
       "      <td>Under the 'Evening Shadows'  truth often plays...</td>\n",
       "      <td>NaN</td>\n",
       "      <td>Mona Ambegaonkar|Ananth Narayan Mahadevan|Deva...</td>\n",
       "      <td>17 wins &amp; 1 nomination</td>\n",
       "      <td>11 January 2019 (India)</td>\n",
       "    </tr>\n",
       "    <tr>\n",
       "      <th>6</th>\n",
       "      <td>Fraud Saiyaan</td>\n",
       "      <td>tt5013008</td>\n",
       "      <td>https://upload.wikimedia.org/wikipedia/en/thum...</td>\n",
       "      <td>https://en.wikipedia.org/wiki/Fraud_Saiyaan</td>\n",
       "      <td>Fraud Saiyaan</td>\n",
       "      <td>Fraud Saiyyan</td>\n",
       "      <td>0</td>\n",
       "      <td>2019</td>\n",
       "      <td>109</td>\n",
       "      <td>Comedy|Drama</td>\n",
       "      <td>4.2</td>\n",
       "      <td>504</td>\n",
       "      <td>Fraud Saiyyan is the story of a con artist in ...</td>\n",
       "      <td>Fraud Saiyyan is the story of a con artist in ...</td>\n",
       "      <td>NaN</td>\n",
       "      <td>Arshad Warsi|Saurabh Shukla|Flora Saini|Sara L...</td>\n",
       "      <td>NaN</td>\n",
       "      <td>18 January 2019 (India)</td>\n",
       "    </tr>\n",
       "    <tr>\n",
       "      <th>8</th>\n",
       "      <td>Manikarnika: The Queen of Jhansi</td>\n",
       "      <td>tt6903440</td>\n",
       "      <td>https://upload.wikimedia.org/wikipedia/en/thum...</td>\n",
       "      <td>https://en.wikipedia.org/wiki/Manikarnika:_The...</td>\n",
       "      <td>Manikarnika: The Queen of Jhansi</td>\n",
       "      <td>Manikarnika: The Queen of Jhansi</td>\n",
       "      <td>0</td>\n",
       "      <td>2019</td>\n",
       "      <td>148</td>\n",
       "      <td>Action|Biography|Drama</td>\n",
       "      <td>6.5</td>\n",
       "      <td>7361</td>\n",
       "      <td>Manikarnika born in Varanasi when Dixt a minis...</td>\n",
       "      <td>Story of Rani Lakshmibai  one of the leading f...</td>\n",
       "      <td>NaN</td>\n",
       "      <td>Kangana Ranaut|Rimi Sen|Atul Kulkarni|Nalneesh...</td>\n",
       "      <td>NaN</td>\n",
       "      <td>25 January 2019 (USA)</td>\n",
       "    </tr>\n",
       "    <tr>\n",
       "      <th>10</th>\n",
       "      <td>Amavas</td>\n",
       "      <td>tt8396186</td>\n",
       "      <td>https://upload.wikimedia.org/wikipedia/en/thum...</td>\n",
       "      <td>https://en.wikipedia.org/wiki/Amavas</td>\n",
       "      <td>Amavas</td>\n",
       "      <td>Amavas</td>\n",
       "      <td>0</td>\n",
       "      <td>2019</td>\n",
       "      <td>134</td>\n",
       "      <td>Horror|Thriller</td>\n",
       "      <td>2.8</td>\n",
       "      <td>235</td>\n",
       "      <td>Far away from the bustle of the city  a young ...</td>\n",
       "      <td>The lives of a couple turn into a nightmare  a...</td>\n",
       "      <td>NaN</td>\n",
       "      <td>Ali Asgar|Vivan Bhatena|Nargis Fakhri|Sachiin ...</td>\n",
       "      <td>NaN</td>\n",
       "      <td>8 February 2019 (India)</td>\n",
       "    </tr>\n",
       "    <tr>\n",
       "      <th>12</th>\n",
       "      <td>Hum Chaar</td>\n",
       "      <td>tt9319812</td>\n",
       "      <td>https://upload.wikimedia.org/wikipedia/en/thum...</td>\n",
       "      <td>https://en.wikipedia.org/wiki/Hum_Chaar</td>\n",
       "      <td>Hum chaar</td>\n",
       "      <td>Hum chaar</td>\n",
       "      <td>0</td>\n",
       "      <td>2019</td>\n",
       "      <td>143</td>\n",
       "      <td>Drama</td>\n",
       "      <td>5.6</td>\n",
       "      <td>183</td>\n",
       "      <td>The story of the film revolves around four col...</td>\n",
       "      <td>The story of the film revolves around four col...</td>\n",
       "      <td>NaN</td>\n",
       "      <td>Prit Kamani|Simran Sharma|Anshuman Malhotra|Tu...</td>\n",
       "      <td>NaN</td>\n",
       "      <td>15 February 2019 (India)</td>\n",
       "    </tr>\n",
       "    <tr>\n",
       "      <th>14</th>\n",
       "      <td>Sonchiriya</td>\n",
       "      <td>tt8108200</td>\n",
       "      <td>https://upload.wikimedia.org/wikipedia/en/thum...</td>\n",
       "      <td>https://en.wikipedia.org/wiki/Sonchiriya</td>\n",
       "      <td>Sonchiriya</td>\n",
       "      <td>Sonchiriya</td>\n",
       "      <td>0</td>\n",
       "      <td>2019</td>\n",
       "      <td>143</td>\n",
       "      <td>Action|Crime|Drama</td>\n",
       "      <td>7.5</td>\n",
       "      <td>2322</td>\n",
       "      <td>This is the story of a group of rebels in Cham...</td>\n",
       "      <td>Set in the Chambal valley  the film follows th...</td>\n",
       "      <td>NaN</td>\n",
       "      <td>Sushant Singh Rajput|Bhumi Pednekar|Manoj Bajp...</td>\n",
       "      <td>NaN</td>\n",
       "      <td>1 March 2019 (India)</td>\n",
       "    </tr>\n",
       "    <tr>\n",
       "      <th>16</th>\n",
       "      <td>Mard Ko Dard Nahi Hota</td>\n",
       "      <td>tt8055888</td>\n",
       "      <td>https://upload.wikimedia.org/wikipedia/en/thum...</td>\n",
       "      <td>https://en.wikipedia.org/wiki/Mard_Ko_Dard_Nah...</td>\n",
       "      <td>Mard Ko Dard Nahin Hota</td>\n",
       "      <td>Mard Ko Dard Nahin Hota</td>\n",
       "      <td>0</td>\n",
       "      <td>2018</td>\n",
       "      <td>134</td>\n",
       "      <td>Action|Comedy</td>\n",
       "      <td>7.4</td>\n",
       "      <td>3969</td>\n",
       "      <td>It is a story of a young boy Surya who has a r...</td>\n",
       "      <td>It is a story of a young boy Surya who has a r...</td>\n",
       "      <td>NaN</td>\n",
       "      <td>Abhimanyu Dasani|Radhika Madan|Prateek Parmar|...</td>\n",
       "      <td>2 wins &amp; 2 nominations</td>\n",
       "      <td>22 March 2019 (USA)</td>\n",
       "    </tr>\n",
       "  </tbody>\n",
       "</table>\n",
       "</div>"
      ],
      "text/plain": [
       "                                 title_x    imdb_id  \\\n",
       "2   The Accidental Prime Minister (film)  tt6986710   \n",
       "4                        Evening Shadows  tt6028796   \n",
       "6                          Fraud Saiyaan  tt5013008   \n",
       "8       Manikarnika: The Queen of Jhansi  tt6903440   \n",
       "10                                Amavas  tt8396186   \n",
       "12                             Hum Chaar  tt9319812   \n",
       "14                            Sonchiriya  tt8108200   \n",
       "16                Mard Ko Dard Nahi Hota  tt8055888   \n",
       "\n",
       "                                          poster_path  \\\n",
       "2   https://upload.wikimedia.org/wikipedia/en/thum...   \n",
       "4                                                 NaN   \n",
       "6   https://upload.wikimedia.org/wikipedia/en/thum...   \n",
       "8   https://upload.wikimedia.org/wikipedia/en/thum...   \n",
       "10  https://upload.wikimedia.org/wikipedia/en/thum...   \n",
       "12  https://upload.wikimedia.org/wikipedia/en/thum...   \n",
       "14  https://upload.wikimedia.org/wikipedia/en/thum...   \n",
       "16  https://upload.wikimedia.org/wikipedia/en/thum...   \n",
       "\n",
       "                                            wiki_link  \\\n",
       "2   https://en.wikipedia.org/wiki/The_Accidental_P...   \n",
       "4       https://en.wikipedia.org/wiki/Evening_Shadows   \n",
       "6         https://en.wikipedia.org/wiki/Fraud_Saiyaan   \n",
       "8   https://en.wikipedia.org/wiki/Manikarnika:_The...   \n",
       "10               https://en.wikipedia.org/wiki/Amavas   \n",
       "12            https://en.wikipedia.org/wiki/Hum_Chaar   \n",
       "14           https://en.wikipedia.org/wiki/Sonchiriya   \n",
       "16  https://en.wikipedia.org/wiki/Mard_Ko_Dard_Nah...   \n",
       "\n",
       "                             title_y                    original_title  \\\n",
       "2      The Accidental Prime Minister     The Accidental Prime Minister   \n",
       "4                    Evening Shadows                   Evening Shadows   \n",
       "6                      Fraud Saiyaan                     Fraud Saiyyan   \n",
       "8   Manikarnika: The Queen of Jhansi  Manikarnika: The Queen of Jhansi   \n",
       "10                            Amavas                            Amavas   \n",
       "12                         Hum chaar                         Hum chaar   \n",
       "14                        Sonchiriya                        Sonchiriya   \n",
       "16           Mard Ko Dard Nahin Hota           Mard Ko Dard Nahin Hota   \n",
       "\n",
       "    is_adult  year_of_release runtime                  genres  imdb_rating  \\\n",
       "2          0             2019     112         Biography|Drama          6.1   \n",
       "4          0             2018     102                   Drama          7.3   \n",
       "6          0             2019     109            Comedy|Drama          4.2   \n",
       "8          0             2019     148  Action|Biography|Drama          6.5   \n",
       "10         0             2019     134         Horror|Thriller          2.8   \n",
       "12         0             2019     143                   Drama          5.6   \n",
       "14         0             2019     143      Action|Crime|Drama          7.5   \n",
       "16         0             2018     134           Action|Comedy          7.4   \n",
       "\n",
       "    imdb_votes                                              story  \\\n",
       "2         5549  Based on the memoir by Indian policy analyst S...   \n",
       "4          280  While gay rights and marriage equality has bee...   \n",
       "6          504  Fraud Saiyyan is the story of a con artist in ...   \n",
       "8         7361  Manikarnika born in Varanasi when Dixt a minis...   \n",
       "10         235  Far away from the bustle of the city  a young ...   \n",
       "12         183  The story of the film revolves around four col...   \n",
       "14        2322  This is the story of a group of rebels in Cham...   \n",
       "16        3969  It is a story of a young boy Surya who has a r...   \n",
       "\n",
       "                                              summary tagline  \\\n",
       "2   Explores Manmohan Singh's tenure as the Prime ...     NaN   \n",
       "4   Under the 'Evening Shadows'  truth often plays...     NaN   \n",
       "6   Fraud Saiyyan is the story of a con artist in ...     NaN   \n",
       "8   Story of Rani Lakshmibai  one of the leading f...     NaN   \n",
       "10  The lives of a couple turn into a nightmare  a...     NaN   \n",
       "12  The story of the film revolves around four col...     NaN   \n",
       "14  Set in the Chambal valley  the film follows th...     NaN   \n",
       "16  It is a story of a young boy Surya who has a r...     NaN   \n",
       "\n",
       "                                               actors        wins_nominations  \\\n",
       "2   Anupam Kher|Akshaye Khanna|Aahana Kumra|Atul S...                     NaN   \n",
       "4   Mona Ambegaonkar|Ananth Narayan Mahadevan|Deva...  17 wins & 1 nomination   \n",
       "6   Arshad Warsi|Saurabh Shukla|Flora Saini|Sara L...                     NaN   \n",
       "8   Kangana Ranaut|Rimi Sen|Atul Kulkarni|Nalneesh...                     NaN   \n",
       "10  Ali Asgar|Vivan Bhatena|Nargis Fakhri|Sachiin ...                     NaN   \n",
       "12  Prit Kamani|Simran Sharma|Anshuman Malhotra|Tu...                     NaN   \n",
       "14  Sushant Singh Rajput|Bhumi Pednekar|Manoj Bajp...                     NaN   \n",
       "16  Abhimanyu Dasani|Radhika Madan|Prateek Parmar|...  2 wins & 2 nominations   \n",
       "\n",
       "                release_date  \n",
       "2      11 January 2019 (USA)  \n",
       "4    11 January 2019 (India)  \n",
       "6    18 January 2019 (India)  \n",
       "8      25 January 2019 (USA)  \n",
       "10   8 February 2019 (India)  \n",
       "12  15 February 2019 (India)  \n",
       "14      1 March 2019 (India)  \n",
       "16       22 March 2019 (USA)  "
      ]
     },
     "execution_count": 52,
     "metadata": {},
     "output_type": "execute_result"
    }
   ],
   "source": [
    "mv.iloc[2:18:2]"
   ]
  },
  {
   "cell_type": "code",
   "execution_count": 53,
   "metadata": {},
   "outputs": [
    {
     "data": {
      "text/plain": [
       "iq         12\n",
       "marks      62\n",
       "package     6\n",
       "Name: Jeet, dtype: int64"
      ]
     },
     "execution_count": 53,
     "metadata": {},
     "output_type": "execute_result"
    }
   ],
   "source": [
    "data.loc['Jeet']"
   ]
  },
  {
   "cell_type": "code",
   "execution_count": 54,
   "metadata": {},
   "outputs": [
    {
     "data": {
      "text/html": [
       "<div>\n",
       "<style scoped>\n",
       "    .dataframe tbody tr th:only-of-type {\n",
       "        vertical-align: middle;\n",
       "    }\n",
       "\n",
       "    .dataframe tbody tr th {\n",
       "        vertical-align: top;\n",
       "    }\n",
       "\n",
       "    .dataframe thead th {\n",
       "        text-align: right;\n",
       "    }\n",
       "</style>\n",
       "<table border=\"1\" class=\"dataframe\">\n",
       "  <thead>\n",
       "    <tr style=\"text-align: right;\">\n",
       "      <th></th>\n",
       "      <th>iq</th>\n",
       "      <th>marks</th>\n",
       "      <th>package</th>\n",
       "    </tr>\n",
       "    <tr>\n",
       "      <th>name</th>\n",
       "      <th></th>\n",
       "      <th></th>\n",
       "      <th></th>\n",
       "    </tr>\n",
       "  </thead>\n",
       "  <tbody>\n",
       "    <tr>\n",
       "      <th>Meet</th>\n",
       "      <td>100</td>\n",
       "      <td>90</td>\n",
       "      <td>12</td>\n",
       "    </tr>\n",
       "    <tr>\n",
       "      <th>Leet</th>\n",
       "      <td>80</td>\n",
       "      <td>70</td>\n",
       "      <td>8</td>\n",
       "    </tr>\n",
       "  </tbody>\n",
       "</table>\n",
       "</div>"
      ],
      "text/plain": [
       "       iq  marks  package\n",
       "name                     \n",
       "Meet  100     90       12\n",
       "Leet   80     70        8"
      ]
     },
     "execution_count": 54,
     "metadata": {},
     "output_type": "execute_result"
    }
   ],
   "source": [
    "data.loc['Meet':'Leet']\n",
    "# here leet is included "
   ]
  },
  {
   "cell_type": "markdown",
   "metadata": {},
   "source": [
    "Difference between loc and iloc is first label and the index position with the range which allows last element in loc "
   ]
  },
  {
   "cell_type": "code",
   "execution_count": 57,
   "metadata": {},
   "outputs": [
    {
     "data": {
      "text/html": [
       "<div>\n",
       "<style scoped>\n",
       "    .dataframe tbody tr th:only-of-type {\n",
       "        vertical-align: middle;\n",
       "    }\n",
       "\n",
       "    .dataframe tbody tr th {\n",
       "        vertical-align: top;\n",
       "    }\n",
       "\n",
       "    .dataframe thead th {\n",
       "        text-align: right;\n",
       "    }\n",
       "</style>\n",
       "<table border=\"1\" class=\"dataframe\">\n",
       "  <thead>\n",
       "    <tr style=\"text-align: right;\">\n",
       "      <th></th>\n",
       "      <th>title_x</th>\n",
       "      <th>imdb_id</th>\n",
       "      <th>poster_path</th>\n",
       "      <th>wiki_link</th>\n",
       "    </tr>\n",
       "  </thead>\n",
       "  <tbody>\n",
       "    <tr>\n",
       "      <th>0</th>\n",
       "      <td>Uri: The Surgical Strike</td>\n",
       "      <td>tt8291224</td>\n",
       "      <td>https://upload.wikimedia.org/wikipedia/en/thum...</td>\n",
       "      <td>https://en.wikipedia.org/wiki/Uri:_The_Surgica...</td>\n",
       "    </tr>\n",
       "    <tr>\n",
       "      <th>1</th>\n",
       "      <td>Battalion 609</td>\n",
       "      <td>tt9472208</td>\n",
       "      <td>NaN</td>\n",
       "      <td>https://en.wikipedia.org/wiki/Battalion_609</td>\n",
       "    </tr>\n",
       "    <tr>\n",
       "      <th>2</th>\n",
       "      <td>The Accidental Prime Minister (film)</td>\n",
       "      <td>tt6986710</td>\n",
       "      <td>https://upload.wikimedia.org/wikipedia/en/thum...</td>\n",
       "      <td>https://en.wikipedia.org/wiki/The_Accidental_P...</td>\n",
       "    </tr>\n",
       "  </tbody>\n",
       "</table>\n",
       "</div>"
      ],
      "text/plain": [
       "                                title_x    imdb_id  \\\n",
       "0              Uri: The Surgical Strike  tt8291224   \n",
       "1                         Battalion 609  tt9472208   \n",
       "2  The Accidental Prime Minister (film)  tt6986710   \n",
       "\n",
       "                                         poster_path  \\\n",
       "0  https://upload.wikimedia.org/wikipedia/en/thum...   \n",
       "1                                                NaN   \n",
       "2  https://upload.wikimedia.org/wikipedia/en/thum...   \n",
       "\n",
       "                                           wiki_link  \n",
       "0  https://en.wikipedia.org/wiki/Uri:_The_Surgica...  \n",
       "1        https://en.wikipedia.org/wiki/Battalion_609  \n",
       "2  https://en.wikipedia.org/wiki/The_Accidental_P...  "
      ]
     },
     "execution_count": 57,
     "metadata": {},
     "output_type": "execute_result"
    }
   ],
   "source": [
    "mv.iloc[0:3,0:4]"
   ]
  },
  {
   "cell_type": "code",
   "execution_count": 59,
   "metadata": {},
   "outputs": [
    {
     "data": {
      "text/html": [
       "<div>\n",
       "<style scoped>\n",
       "    .dataframe tbody tr th:only-of-type {\n",
       "        vertical-align: middle;\n",
       "    }\n",
       "\n",
       "    .dataframe tbody tr th {\n",
       "        vertical-align: top;\n",
       "    }\n",
       "\n",
       "    .dataframe thead th {\n",
       "        text-align: right;\n",
       "    }\n",
       "</style>\n",
       "<table border=\"1\" class=\"dataframe\">\n",
       "  <thead>\n",
       "    <tr style=\"text-align: right;\">\n",
       "      <th></th>\n",
       "      <th>title_x</th>\n",
       "      <th>imdb_id</th>\n",
       "      <th>poster_path</th>\n",
       "      <th>wiki_link</th>\n",
       "    </tr>\n",
       "  </thead>\n",
       "  <tbody>\n",
       "    <tr>\n",
       "      <th>0</th>\n",
       "      <td>Uri: The Surgical Strike</td>\n",
       "      <td>tt8291224</td>\n",
       "      <td>https://upload.wikimedia.org/wikipedia/en/thum...</td>\n",
       "      <td>https://en.wikipedia.org/wiki/Uri:_The_Surgica...</td>\n",
       "    </tr>\n",
       "    <tr>\n",
       "      <th>1</th>\n",
       "      <td>Battalion 609</td>\n",
       "      <td>tt9472208</td>\n",
       "      <td>NaN</td>\n",
       "      <td>https://en.wikipedia.org/wiki/Battalion_609</td>\n",
       "    </tr>\n",
       "    <tr>\n",
       "      <th>2</th>\n",
       "      <td>The Accidental Prime Minister (film)</td>\n",
       "      <td>tt6986710</td>\n",
       "      <td>https://upload.wikimedia.org/wikipedia/en/thum...</td>\n",
       "      <td>https://en.wikipedia.org/wiki/The_Accidental_P...</td>\n",
       "    </tr>\n",
       "  </tbody>\n",
       "</table>\n",
       "</div>"
      ],
      "text/plain": [
       "                                title_x    imdb_id  \\\n",
       "0              Uri: The Surgical Strike  tt8291224   \n",
       "1                         Battalion 609  tt9472208   \n",
       "2  The Accidental Prime Minister (film)  tt6986710   \n",
       "\n",
       "                                         poster_path  \\\n",
       "0  https://upload.wikimedia.org/wikipedia/en/thum...   \n",
       "1                                                NaN   \n",
       "2  https://upload.wikimedia.org/wikipedia/en/thum...   \n",
       "\n",
       "                                           wiki_link  \n",
       "0  https://en.wikipedia.org/wiki/Uri:_The_Surgica...  \n",
       "1        https://en.wikipedia.org/wiki/Battalion_609  \n",
       "2  https://en.wikipedia.org/wiki/The_Accidental_P...  "
      ]
     },
     "execution_count": 59,
     "metadata": {},
     "output_type": "execute_result"
    }
   ],
   "source": [
    "mv.loc[0:2,'title_x':'wiki_link']"
   ]
  },
  {
   "cell_type": "code",
   "execution_count": 73,
   "metadata": {},
   "outputs": [
    {
     "data": {
      "text/html": [
       "<div>\n",
       "<style scoped>\n",
       "    .dataframe tbody tr th:only-of-type {\n",
       "        vertical-align: middle;\n",
       "    }\n",
       "\n",
       "    .dataframe tbody tr th {\n",
       "        vertical-align: top;\n",
       "    }\n",
       "\n",
       "    .dataframe thead th {\n",
       "        text-align: right;\n",
       "    }\n",
       "</style>\n",
       "<table border=\"1\" class=\"dataframe\">\n",
       "  <thead>\n",
       "    <tr style=\"text-align: right;\">\n",
       "      <th></th>\n",
       "      <th>Season</th>\n",
       "      <th>WinningTeam</th>\n",
       "    </tr>\n",
       "  </thead>\n",
       "  <tbody>\n",
       "    <tr>\n",
       "      <th>0</th>\n",
       "      <td>2022</td>\n",
       "      <td>Gujarat Titans</td>\n",
       "    </tr>\n",
       "    <tr>\n",
       "      <th>74</th>\n",
       "      <td>2021</td>\n",
       "      <td>Chennai Super Kings</td>\n",
       "    </tr>\n",
       "    <tr>\n",
       "      <th>134</th>\n",
       "      <td>2020/21</td>\n",
       "      <td>Mumbai Indians</td>\n",
       "    </tr>\n",
       "    <tr>\n",
       "      <th>194</th>\n",
       "      <td>2019</td>\n",
       "      <td>Mumbai Indians</td>\n",
       "    </tr>\n",
       "    <tr>\n",
       "      <th>254</th>\n",
       "      <td>2018</td>\n",
       "      <td>Chennai Super Kings</td>\n",
       "    </tr>\n",
       "    <tr>\n",
       "      <th>314</th>\n",
       "      <td>2017</td>\n",
       "      <td>Mumbai Indians</td>\n",
       "    </tr>\n",
       "    <tr>\n",
       "      <th>373</th>\n",
       "      <td>2016</td>\n",
       "      <td>Sunrisers Hyderabad</td>\n",
       "    </tr>\n",
       "    <tr>\n",
       "      <th>433</th>\n",
       "      <td>2015</td>\n",
       "      <td>Mumbai Indians</td>\n",
       "    </tr>\n",
       "    <tr>\n",
       "      <th>492</th>\n",
       "      <td>2014</td>\n",
       "      <td>Kolkata Knight Riders</td>\n",
       "    </tr>\n",
       "    <tr>\n",
       "      <th>552</th>\n",
       "      <td>2013</td>\n",
       "      <td>Mumbai Indians</td>\n",
       "    </tr>\n",
       "    <tr>\n",
       "      <th>628</th>\n",
       "      <td>2012</td>\n",
       "      <td>Kolkata Knight Riders</td>\n",
       "    </tr>\n",
       "    <tr>\n",
       "      <th>702</th>\n",
       "      <td>2011</td>\n",
       "      <td>Chennai Super Kings</td>\n",
       "    </tr>\n",
       "    <tr>\n",
       "      <th>775</th>\n",
       "      <td>2009/10</td>\n",
       "      <td>Chennai Super Kings</td>\n",
       "    </tr>\n",
       "    <tr>\n",
       "      <th>835</th>\n",
       "      <td>2009</td>\n",
       "      <td>Deccan Chargers</td>\n",
       "    </tr>\n",
       "    <tr>\n",
       "      <th>892</th>\n",
       "      <td>2007/08</td>\n",
       "      <td>Rajasthan Royals</td>\n",
       "    </tr>\n",
       "  </tbody>\n",
       "</table>\n",
       "</div>"
      ],
      "text/plain": [
       "      Season            WinningTeam\n",
       "0       2022         Gujarat Titans\n",
       "74      2021    Chennai Super Kings\n",
       "134  2020/21         Mumbai Indians\n",
       "194     2019         Mumbai Indians\n",
       "254     2018    Chennai Super Kings\n",
       "314     2017         Mumbai Indians\n",
       "373     2016    Sunrisers Hyderabad\n",
       "433     2015         Mumbai Indians\n",
       "492     2014  Kolkata Knight Riders\n",
       "552     2013         Mumbai Indians\n",
       "628     2012  Kolkata Knight Riders\n",
       "702     2011    Chennai Super Kings\n",
       "775  2009/10    Chennai Super Kings\n",
       "835     2009        Deccan Chargers\n",
       "892  2007/08       Rajasthan Royals"
      ]
     },
     "execution_count": 73,
     "metadata": {},
     "output_type": "execute_result"
    }
   ],
   "source": [
    "# Filtering a Dataframe \n",
    "\n",
    "# Find all the final winners\n",
    "a = ipl[ipl['MatchNumber']=='Final']\n",
    "a[['Season','WinningTeam']]\n"
   ]
  },
  {
   "cell_type": "code",
   "execution_count": 106,
   "metadata": {},
   "outputs": [
    {
     "data": {
      "text/plain": [
       "14"
      ]
     },
     "execution_count": 106,
     "metadata": {},
     "output_type": "execute_result"
    }
   ],
   "source": [
    "# How many superover finishes have occurred \n",
    "ipl[ipl['SuperOver']=='Y'].shape[0]"
   ]
  },
  {
   "cell_type": "code",
   "execution_count": 121,
   "metadata": {},
   "outputs": [
    {
     "data": {
      "text/plain": [
       "5"
      ]
     },
     "execution_count": 121,
     "metadata": {},
     "output_type": "execute_result"
    }
   ],
   "source": [
    "# How many matches has csk won in Kolkata \n",
    "a = ipl[ipl['WinningTeam']=='Chennai Super Kings']['City']=='Kolkata'\n",
    "a[a].shape[0]"
   ]
  },
  {
   "cell_type": "code",
   "execution_count": 131,
   "metadata": {},
   "outputs": [
    {
     "data": {
      "text/plain": [
       "51.473684210526315"
      ]
     },
     "execution_count": 131,
     "metadata": {},
     "output_type": "execute_result"
    }
   ],
   "source": [
    "# Toss winner is match winner in percentage\n",
    "\n",
    "equal = ipl[ipl['TossWinner']==ipl['WinningTeam']].shape[0]\n",
    "total = ipl['TossWinner'].size\n",
    "\n",
    "per = equal/total*100\n",
    "per\n"
   ]
  },
  {
   "cell_type": "code",
   "execution_count": 138,
   "metadata": {},
   "outputs": [
    {
     "data": {
      "text/plain": [
       "43"
      ]
     },
     "execution_count": 138,
     "metadata": {},
     "output_type": "execute_result"
    }
   ],
   "source": [
    "# movies with rating hihger than 8 and votes>10000\n",
    "\n",
    "mv[(mv['imdb_rating']>8) & (mv['imdb_votes']>10000)].shape[0]"
   ]
  },
  {
   "cell_type": "code",
   "execution_count": 162,
   "metadata": {},
   "outputs": [
    {
     "data": {
      "text/plain": [
       "75"
      ]
     },
     "execution_count": 162,
     "metadata": {},
     "output_type": "execute_result"
    }
   ],
   "source": [
    "# Action movies with rating higher than 7.5\n",
    "\n",
    "mv[(mv['genres'] == 'Action') & (mv['imdb_rating']>7)] # only action is fetched na \n",
    "\n",
    "mv[(mv['genres'].str.split('|').apply(lambda x : 'Action' in x)) & (mv['imdb_rating']>7)].shape[0]"
   ]
  },
  {
   "cell_type": "code",
   "execution_count": 164,
   "metadata": {},
   "outputs": [
    {
     "data": {
      "text/html": [
       "<div>\n",
       "<style scoped>\n",
       "    .dataframe tbody tr th:only-of-type {\n",
       "        vertical-align: middle;\n",
       "    }\n",
       "\n",
       "    .dataframe tbody tr th {\n",
       "        vertical-align: top;\n",
       "    }\n",
       "\n",
       "    .dataframe thead th {\n",
       "        text-align: right;\n",
       "    }\n",
       "</style>\n",
       "<table border=\"1\" class=\"dataframe\">\n",
       "  <thead>\n",
       "    <tr style=\"text-align: right;\">\n",
       "      <th></th>\n",
       "      <th>ID</th>\n",
       "      <th>City</th>\n",
       "      <th>Date</th>\n",
       "      <th>Season</th>\n",
       "      <th>MatchNumber</th>\n",
       "      <th>Team1</th>\n",
       "      <th>Team2</th>\n",
       "      <th>Venue</th>\n",
       "      <th>TossWinner</th>\n",
       "      <th>TossDecision</th>\n",
       "      <th>SuperOver</th>\n",
       "      <th>WinningTeam</th>\n",
       "      <th>WonBy</th>\n",
       "      <th>Margin</th>\n",
       "      <th>method</th>\n",
       "      <th>Player_of_Match</th>\n",
       "      <th>Team1Players</th>\n",
       "      <th>Team2Players</th>\n",
       "      <th>Umpire1</th>\n",
       "      <th>Umpire2</th>\n",
       "    </tr>\n",
       "  </thead>\n",
       "  <tbody>\n",
       "    <tr>\n",
       "      <th>0</th>\n",
       "      <td>1312200</td>\n",
       "      <td>Ahmedabad</td>\n",
       "      <td>2022-05-29</td>\n",
       "      <td>2022</td>\n",
       "      <td>Final</td>\n",
       "      <td>Rajasthan Royals</td>\n",
       "      <td>Gujarat Titans</td>\n",
       "      <td>Narendra Modi Stadium, Ahmedabad</td>\n",
       "      <td>Rajasthan Royals</td>\n",
       "      <td>bat</td>\n",
       "      <td>N</td>\n",
       "      <td>Gujarat Titans</td>\n",
       "      <td>Wickets</td>\n",
       "      <td>7.0</td>\n",
       "      <td>NaN</td>\n",
       "      <td>HH Pandya</td>\n",
       "      <td>['YBK Jaiswal', 'JC Buttler', 'SV Samson', 'D ...</td>\n",
       "      <td>['WP Saha', 'Shubman Gill', 'MS Wade', 'HH Pan...</td>\n",
       "      <td>CB Gaffaney</td>\n",
       "      <td>Nitin Menon</td>\n",
       "    </tr>\n",
       "    <tr>\n",
       "      <th>1</th>\n",
       "      <td>1312199</td>\n",
       "      <td>Ahmedabad</td>\n",
       "      <td>2022-05-27</td>\n",
       "      <td>2022</td>\n",
       "      <td>Qualifier 2</td>\n",
       "      <td>Royal Challengers Bangalore</td>\n",
       "      <td>Rajasthan Royals</td>\n",
       "      <td>Narendra Modi Stadium, Ahmedabad</td>\n",
       "      <td>Rajasthan Royals</td>\n",
       "      <td>field</td>\n",
       "      <td>N</td>\n",
       "      <td>Rajasthan Royals</td>\n",
       "      <td>Wickets</td>\n",
       "      <td>7.0</td>\n",
       "      <td>NaN</td>\n",
       "      <td>JC Buttler</td>\n",
       "      <td>['V Kohli', 'F du Plessis', 'RM Patidar', 'GJ ...</td>\n",
       "      <td>['YBK Jaiswal', 'JC Buttler', 'SV Samson', 'D ...</td>\n",
       "      <td>CB Gaffaney</td>\n",
       "      <td>Nitin Menon</td>\n",
       "    </tr>\n",
       "  </tbody>\n",
       "</table>\n",
       "</div>"
      ],
      "text/plain": [
       "        ID       City        Date Season  MatchNumber  \\\n",
       "0  1312200  Ahmedabad  2022-05-29   2022        Final   \n",
       "1  1312199  Ahmedabad  2022-05-27   2022  Qualifier 2   \n",
       "\n",
       "                         Team1             Team2  \\\n",
       "0             Rajasthan Royals    Gujarat Titans   \n",
       "1  Royal Challengers Bangalore  Rajasthan Royals   \n",
       "\n",
       "                              Venue        TossWinner TossDecision SuperOver  \\\n",
       "0  Narendra Modi Stadium, Ahmedabad  Rajasthan Royals          bat         N   \n",
       "1  Narendra Modi Stadium, Ahmedabad  Rajasthan Royals        field         N   \n",
       "\n",
       "        WinningTeam    WonBy  Margin method Player_of_Match  \\\n",
       "0    Gujarat Titans  Wickets     7.0    NaN       HH Pandya   \n",
       "1  Rajasthan Royals  Wickets     7.0    NaN      JC Buttler   \n",
       "\n",
       "                                        Team1Players  \\\n",
       "0  ['YBK Jaiswal', 'JC Buttler', 'SV Samson', 'D ...   \n",
       "1  ['V Kohli', 'F du Plessis', 'RM Patidar', 'GJ ...   \n",
       "\n",
       "                                        Team2Players      Umpire1      Umpire2  \n",
       "0  ['WP Saha', 'Shubman Gill', 'MS Wade', 'HH Pan...  CB Gaffaney  Nitin Menon  \n",
       "1  ['YBK Jaiswal', 'JC Buttler', 'SV Samson', 'D ...  CB Gaffaney  Nitin Menon  "
      ]
     },
     "execution_count": 164,
     "metadata": {},
     "output_type": "execute_result"
    }
   ],
   "source": [
    "# write a function that can return the track record of 2 teams against each other \n",
    "\n",
    "def track(a,b):\n",
    "    pass\n",
    "a = \n",
    "track()\n",
    "ipl.head(2)\n",
    "    \n"
   ]
  },
  {
   "cell_type": "code",
   "execution_count": 166,
   "metadata": {},
   "outputs": [
    {
     "data": {
      "text/html": [
       "<div>\n",
       "<style scoped>\n",
       "    .dataframe tbody tr th:only-of-type {\n",
       "        vertical-align: middle;\n",
       "    }\n",
       "\n",
       "    .dataframe tbody tr th {\n",
       "        vertical-align: top;\n",
       "    }\n",
       "\n",
       "    .dataframe thead th {\n",
       "        text-align: right;\n",
       "    }\n",
       "</style>\n",
       "<table border=\"1\" class=\"dataframe\">\n",
       "  <thead>\n",
       "    <tr style=\"text-align: right;\">\n",
       "      <th></th>\n",
       "      <th>title_x</th>\n",
       "      <th>imdb_id</th>\n",
       "      <th>poster_path</th>\n",
       "      <th>wiki_link</th>\n",
       "      <th>title_y</th>\n",
       "      <th>original_title</th>\n",
       "      <th>is_adult</th>\n",
       "      <th>year_of_release</th>\n",
       "      <th>runtime</th>\n",
       "      <th>genres</th>\n",
       "      <th>imdb_rating</th>\n",
       "      <th>imdb_votes</th>\n",
       "      <th>story</th>\n",
       "      <th>summary</th>\n",
       "      <th>tagline</th>\n",
       "      <th>actors</th>\n",
       "      <th>wins_nominations</th>\n",
       "      <th>release_date</th>\n",
       "      <th>Country</th>\n",
       "    </tr>\n",
       "  </thead>\n",
       "  <tbody>\n",
       "    <tr>\n",
       "      <th>0</th>\n",
       "      <td>Uri: The Surgical Strike</td>\n",
       "      <td>tt8291224</td>\n",
       "      <td>https://upload.wikimedia.org/wikipedia/en/thum...</td>\n",
       "      <td>https://en.wikipedia.org/wiki/Uri:_The_Surgica...</td>\n",
       "      <td>Uri: The Surgical Strike</td>\n",
       "      <td>Uri: The Surgical Strike</td>\n",
       "      <td>0</td>\n",
       "      <td>2019</td>\n",
       "      <td>138</td>\n",
       "      <td>Action|Drama|War</td>\n",
       "      <td>8.4</td>\n",
       "      <td>35112</td>\n",
       "      <td>Divided over five chapters  the film chronicle...</td>\n",
       "      <td>Indian army special forces execute a covert op...</td>\n",
       "      <td>NaN</td>\n",
       "      <td>Vicky Kaushal|Paresh Rawal|Mohit Raina|Yami Ga...</td>\n",
       "      <td>4 wins</td>\n",
       "      <td>11 January 2019 (USA)</td>\n",
       "      <td>India</td>\n",
       "    </tr>\n",
       "    <tr>\n",
       "      <th>1</th>\n",
       "      <td>Battalion 609</td>\n",
       "      <td>tt9472208</td>\n",
       "      <td>NaN</td>\n",
       "      <td>https://en.wikipedia.org/wiki/Battalion_609</td>\n",
       "      <td>Battalion 609</td>\n",
       "      <td>Battalion 609</td>\n",
       "      <td>0</td>\n",
       "      <td>2019</td>\n",
       "      <td>131</td>\n",
       "      <td>War</td>\n",
       "      <td>4.1</td>\n",
       "      <td>73</td>\n",
       "      <td>The story revolves around a cricket match betw...</td>\n",
       "      <td>The story of Battalion 609 revolves around a c...</td>\n",
       "      <td>NaN</td>\n",
       "      <td>Vicky Ahuja|Shoaib Ibrahim|Shrikant Kamat|Elen...</td>\n",
       "      <td>NaN</td>\n",
       "      <td>11 January 2019 (India)</td>\n",
       "      <td>India</td>\n",
       "    </tr>\n",
       "  </tbody>\n",
       "</table>\n",
       "</div>"
      ],
      "text/plain": [
       "                    title_x    imdb_id  \\\n",
       "0  Uri: The Surgical Strike  tt8291224   \n",
       "1             Battalion 609  tt9472208   \n",
       "\n",
       "                                         poster_path  \\\n",
       "0  https://upload.wikimedia.org/wikipedia/en/thum...   \n",
       "1                                                NaN   \n",
       "\n",
       "                                           wiki_link  \\\n",
       "0  https://en.wikipedia.org/wiki/Uri:_The_Surgica...   \n",
       "1        https://en.wikipedia.org/wiki/Battalion_609   \n",
       "\n",
       "                    title_y            original_title  is_adult  \\\n",
       "0  Uri: The Surgical Strike  Uri: The Surgical Strike         0   \n",
       "1             Battalion 609             Battalion 609         0   \n",
       "\n",
       "   year_of_release runtime            genres  imdb_rating  imdb_votes  \\\n",
       "0             2019     138  Action|Drama|War          8.4       35112   \n",
       "1             2019     131               War          4.1          73   \n",
       "\n",
       "                                               story  \\\n",
       "0  Divided over five chapters  the film chronicle...   \n",
       "1  The story revolves around a cricket match betw...   \n",
       "\n",
       "                                             summary tagline  \\\n",
       "0  Indian army special forces execute a covert op...     NaN   \n",
       "1  The story of Battalion 609 revolves around a c...     NaN   \n",
       "\n",
       "                                              actors wins_nominations  \\\n",
       "0  Vicky Kaushal|Paresh Rawal|Mohit Raina|Yami Ga...           4 wins   \n",
       "1  Vicky Ahuja|Shoaib Ibrahim|Shrikant Kamat|Elen...              NaN   \n",
       "\n",
       "              release_date Country  \n",
       "0    11 January 2019 (USA)   India  \n",
       "1  11 January 2019 (India)   India  "
      ]
     },
     "execution_count": 166,
     "metadata": {},
     "output_type": "execute_result"
    }
   ],
   "source": [
    "# Adding new columns \n",
    "mv['Country'] = 'India'\n",
    "mv.head(2)"
   ]
  },
  {
   "cell_type": "markdown",
   "metadata": {},
   "source": [
    "we removed all the null values resulting in only 298 rows from the table \n",
    "\n",
    "this was done to perform the following code since null values are considered as float in pandas "
   ]
  },
  {
   "cell_type": "code",
   "execution_count": 189,
   "metadata": {},
   "outputs": [
    {
     "data": {
      "text/html": [
       "<div>\n",
       "<style scoped>\n",
       "    .dataframe tbody tr th:only-of-type {\n",
       "        vertical-align: middle;\n",
       "    }\n",
       "\n",
       "    .dataframe tbody tr th {\n",
       "        vertical-align: top;\n",
       "    }\n",
       "\n",
       "    .dataframe thead th {\n",
       "        text-align: right;\n",
       "    }\n",
       "</style>\n",
       "<table border=\"1\" class=\"dataframe\">\n",
       "  <thead>\n",
       "    <tr style=\"text-align: right;\">\n",
       "      <th></th>\n",
       "      <th>title_x</th>\n",
       "      <th>imdb_id</th>\n",
       "      <th>poster_path</th>\n",
       "      <th>wiki_link</th>\n",
       "      <th>title_y</th>\n",
       "      <th>original_title</th>\n",
       "      <th>is_adult</th>\n",
       "      <th>year_of_release</th>\n",
       "      <th>runtime</th>\n",
       "      <th>genres</th>\n",
       "      <th>imdb_rating</th>\n",
       "      <th>imdb_votes</th>\n",
       "      <th>story</th>\n",
       "      <th>summary</th>\n",
       "      <th>tagline</th>\n",
       "      <th>actors</th>\n",
       "      <th>wins_nominations</th>\n",
       "      <th>release_date</th>\n",
       "      <th>Country</th>\n",
       "      <th>Leadactors</th>\n",
       "    </tr>\n",
       "  </thead>\n",
       "  <tbody>\n",
       "    <tr>\n",
       "      <th>11</th>\n",
       "      <td>Gully Boy</td>\n",
       "      <td>tt2395469</td>\n",
       "      <td>https://upload.wikimedia.org/wikipedia/en/thum...</td>\n",
       "      <td>https://en.wikipedia.org/wiki/Gully_Boy</td>\n",
       "      <td>Gully Boy</td>\n",
       "      <td>Gully Boy</td>\n",
       "      <td>0</td>\n",
       "      <td>2019</td>\n",
       "      <td>153</td>\n",
       "      <td>Drama|Music</td>\n",
       "      <td>8.2</td>\n",
       "      <td>22440</td>\n",
       "      <td>Gully Boy is a film about a 22-year-old boy \"M...</td>\n",
       "      <td>A coming-of-age story based on the lives of st...</td>\n",
       "      <td>Apna Time Aayega!</td>\n",
       "      <td>Ranveer Singh|Alia Bhatt|Siddhant Chaturvedi|V...</td>\n",
       "      <td>6 wins &amp; 3 nominations</td>\n",
       "      <td>14 February 2019 (USA)</td>\n",
       "      <td>India</td>\n",
       "      <td>Ranveer Singh</td>\n",
       "    </tr>\n",
       "    <tr>\n",
       "      <th>34</th>\n",
       "      <td>Yeh Hai India</td>\n",
       "      <td>tt5525846</td>\n",
       "      <td>https://upload.wikimedia.org/wikipedia/en/thum...</td>\n",
       "      <td>https://en.wikipedia.org/wiki/Yeh_Hai_India</td>\n",
       "      <td>Yeh Hai India</td>\n",
       "      <td>Yeh Hai India</td>\n",
       "      <td>0</td>\n",
       "      <td>2017</td>\n",
       "      <td>128</td>\n",
       "      <td>Action|Adventure|Drama</td>\n",
       "      <td>5.7</td>\n",
       "      <td>169</td>\n",
       "      <td>Yeh Hai India  follows the story of a 25 years...</td>\n",
       "      <td>Yeh Hai India  follows the story of a 25 years...</td>\n",
       "      <td>A Film for Every Indian</td>\n",
       "      <td>Gavie Chahal|Mohan Agashe|Mohan Joshi|Lom Harsh|</td>\n",
       "      <td>2 wins &amp; 1 nomination</td>\n",
       "      <td>24 May 2019 (India)</td>\n",
       "      <td>India</td>\n",
       "      <td>Gavie Chahal</td>\n",
       "    </tr>\n",
       "  </tbody>\n",
       "</table>\n",
       "</div>"
      ],
      "text/plain": [
       "          title_x    imdb_id  \\\n",
       "11      Gully Boy  tt2395469   \n",
       "34  Yeh Hai India  tt5525846   \n",
       "\n",
       "                                          poster_path  \\\n",
       "11  https://upload.wikimedia.org/wikipedia/en/thum...   \n",
       "34  https://upload.wikimedia.org/wikipedia/en/thum...   \n",
       "\n",
       "                                      wiki_link        title_y original_title  \\\n",
       "11      https://en.wikipedia.org/wiki/Gully_Boy      Gully Boy      Gully Boy   \n",
       "34  https://en.wikipedia.org/wiki/Yeh_Hai_India  Yeh Hai India  Yeh Hai India   \n",
       "\n",
       "    is_adult  year_of_release runtime                  genres  imdb_rating  \\\n",
       "11         0             2019     153             Drama|Music          8.2   \n",
       "34         0             2017     128  Action|Adventure|Drama          5.7   \n",
       "\n",
       "    imdb_votes                                              story  \\\n",
       "11       22440  Gully Boy is a film about a 22-year-old boy \"M...   \n",
       "34         169  Yeh Hai India  follows the story of a 25 years...   \n",
       "\n",
       "                                              summary  \\\n",
       "11  A coming-of-age story based on the lives of st...   \n",
       "34  Yeh Hai India  follows the story of a 25 years...   \n",
       "\n",
       "                    tagline  \\\n",
       "11        Apna Time Aayega!   \n",
       "34  A Film for Every Indian   \n",
       "\n",
       "                                               actors        wins_nominations  \\\n",
       "11  Ranveer Singh|Alia Bhatt|Siddhant Chaturvedi|V...  6 wins & 3 nominations   \n",
       "34   Gavie Chahal|Mohan Agashe|Mohan Joshi|Lom Harsh|   2 wins & 1 nomination   \n",
       "\n",
       "              release_date Country     Leadactors  \n",
       "11  14 February 2019 (USA)   India  Ranveer Singh  \n",
       "34     24 May 2019 (India)   India   Gavie Chahal  "
      ]
     },
     "execution_count": 189,
     "metadata": {},
     "output_type": "execute_result"
    }
   ],
   "source": [
    "# Using existing column \n",
    "mv['Leadactors'] = mv['actors'].str.split('|').apply(lambda x : x[0])\n",
    "mv.head(2)"
   ]
  },
  {
   "cell_type": "markdown",
   "metadata": {},
   "source": [
    "### Important DataFrame Functions"
   ]
  },
  {
   "cell_type": "code",
   "execution_count": 191,
   "metadata": {},
   "outputs": [
    {
     "name": "stdout",
     "output_type": "stream",
     "text": [
      "<class 'pandas.core.frame.DataFrame'>\n",
      "RangeIndex: 950 entries, 0 to 949\n",
      "Data columns (total 20 columns):\n",
      " #   Column           Non-Null Count  Dtype  \n",
      "---  ------           --------------  -----  \n",
      " 0   ID               950 non-null    int64  \n",
      " 1   City             899 non-null    object \n",
      " 2   Date             950 non-null    object \n",
      " 3   Season           950 non-null    object \n",
      " 4   MatchNumber      950 non-null    object \n",
      " 5   Team1            950 non-null    object \n",
      " 6   Team2            950 non-null    object \n",
      " 7   Venue            950 non-null    object \n",
      " 8   TossWinner       950 non-null    object \n",
      " 9   TossDecision     950 non-null    object \n",
      " 10  SuperOver        946 non-null    object \n",
      " 11  WinningTeam      946 non-null    object \n",
      " 12  WonBy            950 non-null    object \n",
      " 13  Margin           932 non-null    float64\n",
      " 14  method           19 non-null     object \n",
      " 15  Player_of_Match  946 non-null    object \n",
      " 16  Team1Players     950 non-null    object \n",
      " 17  Team2Players     950 non-null    object \n",
      " 18  Umpire1          950 non-null    object \n",
      " 19  Umpire2          950 non-null    object \n",
      "dtypes: float64(1), int64(1), object(18)\n",
      "memory usage: 148.6+ KB\n"
     ]
    }
   ],
   "source": [
    "ipl.info()"
   ]
  },
  {
   "cell_type": "code",
   "execution_count": 198,
   "metadata": {},
   "outputs": [
    {
     "name": "stdout",
     "output_type": "stream",
     "text": [
      "<class 'pandas.core.frame.DataFrame'>\n",
      "RangeIndex: 950 entries, 0 to 949\n",
      "Data columns (total 20 columns):\n",
      " #   Column           Non-Null Count  Dtype  \n",
      "---  ------           --------------  -----  \n",
      " 0   ID               950 non-null    int32  \n",
      " 1   City             899 non-null    object \n",
      " 2   Date             950 non-null    object \n",
      " 3   Season           950 non-null    object \n",
      " 4   MatchNumber      950 non-null    object \n",
      " 5   Team1            950 non-null    object \n",
      " 6   Team2            950 non-null    object \n",
      " 7   Venue            950 non-null    object \n",
      " 8   TossWinner       950 non-null    object \n",
      " 9   TossDecision     950 non-null    object \n",
      " 10  SuperOver        946 non-null    object \n",
      " 11  WinningTeam      946 non-null    object \n",
      " 12  WonBy            950 non-null    object \n",
      " 13  Margin           932 non-null    float64\n",
      " 14  method           19 non-null     object \n",
      " 15  Player_of_Match  946 non-null    object \n",
      " 16  Team1Players     950 non-null    object \n",
      " 17  Team2Players     950 non-null    object \n",
      " 18  Umpire1          950 non-null    object \n",
      " 19  Umpire2          950 non-null    object \n",
      "dtypes: float64(1), int32(1), object(18)\n",
      "memory usage: 144.9+ KB\n"
     ]
    }
   ],
   "source": [
    "ipl['ID'] = ipl['ID'].astype('int32')\n",
    "ipl.info()"
   ]
  },
  {
   "cell_type": "code",
   "execution_count": 201,
   "metadata": {},
   "outputs": [
    {
     "name": "stdout",
     "output_type": "stream",
     "text": [
      "<class 'pandas.core.frame.DataFrame'>\n",
      "RangeIndex: 950 entries, 0 to 949\n",
      "Data columns (total 21 columns):\n",
      " #   Column           Non-Null Count  Dtype   \n",
      "---  ------           --------------  -----   \n",
      " 0   ID               950 non-null    int32   \n",
      " 1   City             899 non-null    object  \n",
      " 2   Date             950 non-null    object  \n",
      " 3   Season           950 non-null    object  \n",
      " 4   MatchNumber      950 non-null    object  \n",
      " 5   Team1            950 non-null    object  \n",
      " 6   Team2            950 non-null    object  \n",
      " 7   Venue            950 non-null    object  \n",
      " 8   TossWinner       950 non-null    object  \n",
      " 9   TossDecision     950 non-null    object  \n",
      " 10  SuperOver        946 non-null    object  \n",
      " 11  WinningTeam      946 non-null    object  \n",
      " 12  WonBy            950 non-null    object  \n",
      " 13  Margin           932 non-null    float64 \n",
      " 14  method           19 non-null     object  \n",
      " 15  Player_of_Match  946 non-null    object  \n",
      " 16  Team1Players     950 non-null    object  \n",
      " 17  Team2Players     950 non-null    object  \n",
      " 18  Umpire1          950 non-null    object  \n",
      " 19  Umpire2          950 non-null    object  \n",
      " 20  season           950 non-null    category\n",
      "dtypes: category(1), float64(1), int32(1), object(18)\n",
      "memory usage: 146.4+ KB\n"
     ]
    }
   ],
   "source": [
    "ipl['season'] = ipl['Season'].astype('category') # categorical data k liye hota he ye \n",
    "ipl.info()\n"
   ]
  },
  {
   "cell_type": "code",
   "execution_count": null,
   "metadata": {},
   "outputs": [],
   "source": []
  }
 ],
 "metadata": {
  "kernelspec": {
   "display_name": "Python 3",
   "language": "python",
   "name": "python3"
  },
  "language_info": {
   "codemirror_mode": {
    "name": "ipython",
    "version": 3
   },
   "file_extension": ".py",
   "mimetype": "text/x-python",
   "name": "python",
   "nbconvert_exporter": "python",
   "pygments_lexer": "ipython3",
   "version": "3.12.3"
  }
 },
 "nbformat": 4,
 "nbformat_minor": 2
}
